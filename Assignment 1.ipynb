{
 "cells": [
  {
   "cell_type": "code",
   "execution_count": null,
   "id": "8433dfc9-c276-44c6-b4b9-0ad5badb4ed2",
   "metadata": {},
   "outputs": [],
   "source": [
    "Q1. Explain with an example each when to use a for loop and a while loop.\n",
    "Ans. Both for loops and while loops are used in programming to execute a block of code repeatedly, but they are useful in different situations.\n",
    "\n",
    "A for loop is useful when you want to iterate a specific number of times or over a specific range of values. Here's an example:\n",
    "\n",
    "# Printing the numbers from 1 to 10 using a for loop\n",
    "for i in range(1, 11):\n",
    "    print(i)\n",
    "    \n",
    "In this example, the for loop iterates 10 times, printing the numbers from 1 to 10 to the console. The range function is used to\n",
    "generate a sequence of numbers from 1 to 10, which are assigned to the variable i in each iteration of the loop.\n",
    "\n",
    "A while loop is useful when you want to repeat a block of code until a certain condition is met. Here's an example:\n",
    "\n",
    "# Asking the user for their name using a while loop\n",
    "name = \"\"\n",
    "while name == \"\":\n",
    "    name = input(\"Please enter your name: \")\n",
    "print(\"Hello, \" + name + \"!\")\n",
    "\n",
    "In this example, the while loop will continue to execute as long as the name variable is an empty string. The input function prompts the\n",
    "user to enter their name, and their response is stored in the name variable. The loop will continue to execute until the user enters a non-empty\n",
    "string, at which point the loop will terminate and the program will print a personalized greeting to the user.\n",
    "\n",
    "In summary, use a for loop when you want to execute a block of code a specific number of times, and use a while loop when you want to execute a\n",
    "block of code until a specific condition is met.\n",
    " "
   ]
  },
  {
   "cell_type": "code",
   "execution_count": null,
   "id": "59ffd73d-9956-4d13-b716-68f344c46b18",
   "metadata": {},
   "outputs": [],
   "source": [
    "Q2. Write a python program to print the sum and product of the first 10 natural numbers using for and while loop."
   ]
  },
  {
   "cell_type": "code",
   "execution_count": 5,
   "id": "eee6e9a0-a3d6-4d00-9c62-2bb3704f4579",
   "metadata": {},
   "outputs": [
    {
     "name": "stdout",
     "output_type": "stream",
     "text": [
      "Sum of first 10 natural numbers: 55\n",
      "Product of first 10 natural numbers: 3628800\n"
     ]
    }
   ],
   "source": [
    "# Sum and Product of first 10 natural numbers using for loop\n",
    "\n",
    "# Calculating the sum of first 10 natural numbers\n",
    "sum = 0\n",
    "for i in range(1, 11):\n",
    "    sum += i\n",
    "\n",
    "# Calculating the product of first 10 natural numbers\n",
    "product = 1\n",
    "for i in range(1, 11):\n",
    "    product *= i\n",
    "\n",
    "# Printing the results\n",
    "print(\"Sum of first 10 natural numbers:\", sum)\n",
    "print(\"Product of first 10 natural numbers:\", product)"
   ]
  },
  {
   "cell_type": "code",
   "execution_count": 6,
   "id": "debdf696-5cbd-42a0-9475-d4ae5d907d7a",
   "metadata": {},
   "outputs": [
    {
     "name": "stdout",
     "output_type": "stream",
     "text": [
      "Sum of first 10 natural numbers: 55\n",
      "Product of first 10 natural numbers: 3628800\n"
     ]
    }
   ],
   "source": [
    "# Sum and Product of first 10 natural numbers using while loop\n",
    "\n",
    "# Calculating the sum of first 10 natural numbers\n",
    "i = 1\n",
    "sum = 0\n",
    "while i <= 10:\n",
    "    sum += i\n",
    "    i += 1\n",
    "\n",
    "# Calculating the product of first 10 natural numbers\n",
    "i = 1\n",
    "product = 1\n",
    "while i <= 10:\n",
    "    product *= i\n",
    "    i += 1\n",
    "\n",
    "# Printing the results\n",
    "print(\"Sum of first 10 natural numbers:\", sum)\n",
    "print(\"Product of first 10 natural numbers:\", product)"
   ]
  },
  {
   "cell_type": "code",
   "execution_count": null,
   "id": "fff4f65d-2b85-42f2-8fb3-30bf30e83519",
   "metadata": {},
   "outputs": [],
   "source": [
    "Q3. Create a python program to compute the electricity bill for a household. The per-unit charges in rupees are as follows: \n",
    "    For the first 100 units, the user will be charged Rs. 4.5 per unit, for the next 100 units, the user will be charged \n",
    "    Rs. 6 per unit, and for the next 100 units, the user will be charged Rs. 10 per unit, After 300 units and above the user\n",
    "    will be charged Rs. 20 per unit. Your program must pass this test case: when the unit of electricity consumed by the user \n",
    "    in a month is 310, the total electricity bill should be 2250."
   ]
  },
  {
   "cell_type": "code",
   "execution_count": 13,
   "id": "ba9ea9a0-612a-4379-9dac-d51a42b28687",
   "metadata": {},
   "outputs": [
    {
     "name": "stdin",
     "output_type": "stream",
     "text": [
      "Enter Units:  310\n"
     ]
    },
    {
     "name": "stdout",
     "output_type": "stream",
     "text": [
      "Total Electricity Bill Rs.2250\n"
     ]
    }
   ],
   "source": [
    "units = int(input('Enter Units: '))\n",
    "bill = 0\n",
    "if units <= 100:\n",
    "    bill += 4.5*units\n",
    "    units -= 100\n",
    "elif units > 100 and units <= 200:\n",
    "    bill += 450\n",
    "    units -= 100\n",
    "    bill += 6*units\n",
    "elif units > 200 and units <= 300:\n",
    "    bill += 450+600\n",
    "    units -= 200\n",
    "    bill += 10*units\n",
    "elif units > 300:\n",
    "    bill += 450+600+1000\n",
    "    units -= 300\n",
    "    bill += 20*units\n",
    "print(f'Total Electricity Bill Rs.{bill}')"
   ]
  },
  {
   "cell_type": "code",
   "execution_count": null,
   "id": "bd31969d-c6bf-4188-bb9c-5e2f4d93f63b",
   "metadata": {},
   "outputs": [],
   "source": [
    "Q4. Create a list of numbers from 1 to 100. Use for loop and while loop to calculate the cube of each number\n",
    "and if the cube of that number is divisible by 4 or 5 then append that number in a list and print that list.\n",
    "\n",
    "Ans. #for loop\n",
    "l = list(range(1,101))\n",
    "\n",
    "newlist =[]\n",
    "\n",
    "for i in l:\n",
    "    c= i**3\n",
    "    if c %4 ==0 or c%5==0:\n",
    "        newlist.append(i)\n",
    "print(newlist)\n",
    "\n",
    "#while loop\n",
    "newlist2 =[]\n",
    "i =1\n",
    "while i <= len(l):\n",
    "    c = i**3\n",
    "    if c%4 ==0 or c%5 ==0:\n",
    "        newlist2.append(i)\n",
    "    i+=1\n",
    "print(newlist2)"
   ]
  },
  {
   "cell_type": "code",
   "execution_count": null,
   "id": "bc9d672c-fe87-432f-afa0-d038a93ed476",
   "metadata": {},
   "outputs": [],
   "source": [
    "Q5. Write a program to filter count vowels in the below-given string. string = \"I want to become a data scientist\""
   ]
  },
  {
   "cell_type": "code",
   "execution_count": 4,
   "id": "9d234e8a-07a2-436d-9e9c-29df2ffb3803",
   "metadata": {},
   "outputs": [
    {
     "name": "stdout",
     "output_type": "stream",
     "text": [
      "The number of vowels in the string is: 12\n"
     ]
    }
   ],
   "source": [
    "string = \"I want to become a data scientist\"\n",
    "vowels = 'aeiouAEIOU'\n",
    "count = 0\n",
    "\n",
    "for char in string:\n",
    "    if char in vowels:\n",
    "        count += 1\n",
    "\n",
    "print(\"The number of vowels in the string is:\", count)"
   ]
  }
 ],
 "metadata": {
  "kernelspec": {
   "display_name": "Python 3 (ipykernel)",
   "language": "python",
   "name": "python3"
  },
  "language_info": {
   "codemirror_mode": {
    "name": "ipython",
    "version": 3
   },
   "file_extension": ".py",
   "mimetype": "text/x-python",
   "name": "python",
   "nbconvert_exporter": "python",
   "pygments_lexer": "ipython3",
   "version": "3.10.8"
  }
 },
 "nbformat": 4,
 "nbformat_minor": 5
}

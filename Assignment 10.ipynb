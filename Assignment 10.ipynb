{
 "cells": [
  {
   "cell_type": "code",
   "execution_count": null,
   "id": "71a77a83-948e-4508-af23-6dbf487b7187",
   "metadata": {},
   "outputs": [],
   "source": [
    "Q1, Create a vehicle class with an init method having instance variables as name_of_vehicle, max_speed\n",
    "and average_of_vehicle."
   ]
  },
  {
   "cell_type": "code",
   "execution_count": 1,
   "id": "660fc393-2028-4814-a367-c42be53db3f3",
   "metadata": {},
   "outputs": [
    {
     "name": "stdout",
     "output_type": "stream",
     "text": [
      "Car\n",
      "200\n",
      "20\n"
     ]
    }
   ],
   "source": [
    "class Vehicle:\n",
    "    def __init__(self, name_of_vehicle, max_speed, average_of_vehicle):\n",
    "        self.name_of_vehicle = name_of_vehicle\n",
    "        self.max_speed = max_speed\n",
    "        self.average_of_vehicle = average_of_vehicle\n",
    "        \n",
    "car = Vehicle(\"Car\", 200, 20)\n",
    "print(car.name_of_vehicle)  # \"Car\"\n",
    "print(car.max_speed)  # 200\n",
    "print(car.average_of_vehicle)  # 20"
   ]
  },
  {
   "cell_type": "code",
   "execution_count": null,
   "id": "ebad95a4-2c01-4f0c-b7fa-e5e0de9c99be",
   "metadata": {},
   "outputs": [],
   "source": [
    "Q2. Create a child class car from the vehicle class created in Que 1, which will inherit the vehicle class.\n",
    "Create a method named seating_capacity which takes capacity as an argument and returns the name of\n",
    "the vehicle and its seating capacity."
   ]
  },
  {
   "cell_type": "code",
   "execution_count": 2,
   "id": "33555fe7-8cac-493c-8ade-f95fbeead15c",
   "metadata": {},
   "outputs": [
    {
     "name": "stdout",
     "output_type": "stream",
     "text": [
      "The My Car has a seating capacity of 5.\n"
     ]
    }
   ],
   "source": [
    "class Car(Vehicle):\n",
    "    def seating_capacity(self, capacity):\n",
    "        return f\"The {self.name_of_vehicle} has a seating capacity of {capacity}.\"\n",
    "    \n",
    "my_car = Car(\"My Car\", 150, 15)\n",
    "print(my_car.seating_capacity(5))  # \"The My Car has a seating capacity of 5.\""
   ]
  },
  {
   "cell_type": "code",
   "execution_count": null,
   "id": "81549e3b-d423-4b95-abef-73e700ed95e8",
   "metadata": {},
   "outputs": [],
   "source": [
    "Q3. What is multiple inheritance? Write a python code to demonstrate multiple inheritance.\n",
    "Ans.  Multiple inheritance is a feature of object-oriented programming that allows a class to inherit \n",
    "attributes and behaviors from multiple parent classes. This allows for greater flexibility and \n",
    "code reuse, as a single class can inherit the characteristics of multiple existing classes."
   ]
  },
  {
   "cell_type": "code",
   "execution_count": 3,
   "id": "a3a05428-f11b-451f-9a2b-723e347672e9",
   "metadata": {},
   "outputs": [
    {
     "name": "stdout",
     "output_type": "stream",
     "text": [
      "Engine started.\n",
      "Fuel tank filled with 50 liters.\n",
      "Car is driving.\n"
     ]
    }
   ],
   "source": [
    "class Engine:\n",
    "    def start(self):\n",
    "        return \"Engine started.\"\n",
    "\n",
    "class FuelSystem:\n",
    "    def fill_fuel(self, fuel_amount):\n",
    "        return f\"Fuel tank filled with {fuel_amount} liters.\"\n",
    "\n",
    "class Car(Engine, FuelSystem):\n",
    "    def drive(self):\n",
    "        return \"Car is driving.\"\n",
    "\n",
    "my_car = Car()\n",
    "print(my_car.start())  # \"Engine started.\"\n",
    "print(my_car.fill_fuel(50))  # \"Fuel tank filled with 50 liters.\"\n",
    "print(my_car.drive())  # \"Car is driving"
   ]
  },
  {
   "cell_type": "code",
   "execution_count": null,
   "id": "5747913a-e478-4801-9462-2ffd4ed381bb",
   "metadata": {},
   "outputs": [],
   "source": [
    "Q4. What are getter and setter in python? Create a class and create a getter and a setter method\n",
    "Ans.  Getters and setters are methods in object-oriented programming that allow you to control access to the \n",
    "attributes of an object. A getter method is used to retrieve the value of an attribute, while a setter \n",
    "method is used to set the value of an attribute.'"
   ]
  },
  {
   "cell_type": "code",
   "execution_count": null,
   "id": "98a3acee-3820-4c4b-9f29-3631b0488917",
   "metadata": {},
   "outputs": [],
   "source": [
    "Q5.What is method overriding in python? Write a python code to demonstrate method overriding.\n",
    "Ans. method overriding occurs when a subclass provides a new implementation for a method\n",
    "that is already defined in its superclass. This means that the subclass has a method with the same name, same parameters,\n",
    "and same return type as the method in its superclass, but it provides a different implementation."
   ]
  },
  {
   "cell_type": "code",
   "execution_count": 4,
   "id": "2f40da6e-1c7d-47c5-b3f0-a864cd0ad071",
   "metadata": {},
   "outputs": [
    {
     "name": "stdout",
     "output_type": "stream",
     "text": [
      "This animal makes a sound.\n",
      "Meow\n",
      "Woof\n"
     ]
    }
   ],
   "source": [
    "class Animal:\n",
    "    def sound(self):\n",
    "        print(\"This animal makes a sound.\")\n",
    "\n",
    "class Cat(Animal):\n",
    "    def sound(self):\n",
    "        print(\"Meow\")\n",
    "\n",
    "class Dog(Animal):\n",
    "    def sound(self):\n",
    "        print(\"Woof\")\n",
    "\n",
    "a = Animal()\n",
    "c = Cat()\n",
    "d = Dog()\n",
    "\n",
    "a.sound()  # This animal makes a sound.\n",
    "c.sound()  # Meow\n",
    "d.sound()  # Woof\n"
   ]
  }
 ],
 "metadata": {
  "kernelspec": {
   "display_name": "Python 3 (ipykernel)",
   "language": "python",
   "name": "python3"
  },
  "language_info": {
   "codemirror_mode": {
    "name": "ipython",
    "version": 3
   },
   "file_extension": ".py",
   "mimetype": "text/x-python",
   "name": "python",
   "nbconvert_exporter": "python",
   "pygments_lexer": "ipython3",
   "version": "3.10.8"
  }
 },
 "nbformat": 4,
 "nbformat_minor": 5
}

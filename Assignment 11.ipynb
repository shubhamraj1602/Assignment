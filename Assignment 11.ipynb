{
 "cells": [
  {
   "cell_type": "code",
   "execution_count": null,
   "id": "ac4edf49-0cfc-4d51-8822-e96244f8e13c",
   "metadata": {},
   "outputs": [],
   "source": [
    "Q1. Which function is used to open a file? What are the different modes of opening a file? Explain each mode \n",
    "of file opening.\n",
    "Ans. The open() function is used to open a file in Python. When you open a file, you can specify the mode in which you want to open it.\n",
    "The different modes of opening a file in Python are:\n",
    "\n",
    "'r' (read mode) - This mode is used when you only want to read the contents of a file. When you open a file in read mode, you cannot\n",
    "write to it or make any changes to it. If the file does not exist,\n",
    "a FileNotFoundError will be raised.\n",
    "\n",
    "'w' (write mode) - This mode is used when you want to write to a file. If the file already exists, its contents will be overwritten.\n",
    "If the file does not exist, a new file will be created.\n",
    "\n",
    "'a' (append mode) - This mode is used when you want to add new content to the end of an existing file. If the file does not exist,\n",
    "a new file will be created. In append mode, you can only write to the end of the file, and not anywhere else.\n",
    "\n",
    "'x' (exclusive creation mode) - This mode is used when you want to create a new file and write to it, but only if the file does not\n",
    "already exist. If the file already exists, a FileExistsError will be raised.\n",
    "\n",
    "'b' (binary mode) - This mode is used when you want to read or write binary data to a file. When opening a file in binary mode, you \n",
    "should use 'rb' to read binary data and 'wb' to write binary data.\n",
    "\n",
    "'t' (text mode) - This mode is used when you want to read or write text data to a file. When opening a file in text mode, you should\n",
    "use 'rt' to read text data and 'wt' to write text data.\n",
    "\n",
    "You can combine these modes when opening a file, for example: 'rb' to open a binary file in read mode, 'wt' to open a text file in write\n",
    "mode, etc. The default mode is 'rt' (read text mode) if no mode is specified."
   ]
  },
  {
   "cell_type": "code",
   "execution_count": null,
   "id": "9cdd780f-0c04-464f-b450-979c0fed4d27",
   "metadata": {},
   "outputs": [],
   "source": [
    "Q2. Why close() function is used? Why is it important to close a file?\n",
    "Ans.The close() function is used to close an open file. When a file is opened in Python using the open function,\n",
    "the operating system reserves some resources to handle the file. This can include memory, disk space, file handles,\n",
    "etc. When you are done with a file and no longer need to read from or write to it, it is important to close it so\n",
    "that these resources can be released and made available for other applications.\n",
    "\n",
    "In addition to freeing up resources, closing a file also ensures that any changes you made to the file are saved and\n",
    "written to disk. This makes it a good practice to close a file after you have finished using it.\n",
    "\n",
    "If you forget to close a file, the operating system will eventually release the resources that were reserved for it\n",
    "zwhen the Python process ends. However, it's still a good idea to close files explicitly, as it makes the intent of your\n",
    "code more clear and reduces the chance of resource leaks or other unintended consequences."
   ]
  },
  {
   "cell_type": "code",
   "execution_count": null,
   "id": "88d42c4b-6812-4111-9e25-b5151b6a5dbe",
   "metadata": {},
   "outputs": [],
   "source": [
    "Q3. Write a python program to create a text file. Write ‘I want to become a Data Scientist’ in that file. Then \n",
    "close the file. Open this file and read the content of the file.  "
   ]
  },
  {
   "cell_type": "code",
   "execution_count": 1,
   "id": "3aa18021-4c69-418e-bfaa-31c4503efc88",
   "metadata": {},
   "outputs": [
    {
     "name": "stdout",
     "output_type": "stream",
     "text": [
      "I want to become a Data Scientist\n"
     ]
    }
   ],
   "source": [
    "# create a text file\n",
    "file = open(\"textfile.txt\", \"w\")\n",
    "\n",
    "# write to the file\n",
    "file.write(\"I want to become a Data Scientist\")\n",
    "\n",
    "# close the file\n",
    "file.close()\n",
    "\n",
    "# open the file in read mode\n",
    "file = open(\"textfile.txt\", \"r\")\n",
    "\n",
    "# read the contents of the file\n",
    "contents = file.read()\n",
    "\n",
    "# print the contents of the file\n",
    "print(contents)\n",
    "\n",
    "# close the file\n",
    "file.close()"
   ]
  },
  {
   "cell_type": "code",
   "execution_count": null,
   "id": "e609429d-189d-48b5-8c33-203ebda3bd08",
   "metadata": {},
   "outputs": [],
   "source": [
    "Q4. Explain the following with python code: read(), readline() and readlines().\n",
    "Ans. read(): The read() method reads the entire contents of a file and returns it as a single string\n",
    "\n",
    "readline(): The readline() method reads one line of the file at a time and returns it as a string.\n",
    "\n",
    "readlines(): The readlines() method reads all the lines of the file and returns them as a list of strings, where each string is a line of the file"
   ]
  },
  {
   "cell_type": "code",
   "execution_count": null,
   "id": "99a58074-9b85-4752-aa14-f6b90b4cb526",
   "metadata": {},
   "outputs": [],
   "source": [
    "Q5. Explain why with statement is used with open(). What is the advantage of using with statement and open() together?\n",
    "Ans. In Python, the with statement is often used with the open function to handle files. The with statement provides\n",
    "a convenient way to manage the resources that a program uses, including files.\n",
    "\n",
    "When you open a file with the open function, you need to close the file after you are \n",
    "done with it. If you forget to close the file, it can cause problems, such as data corruption or resource leaks.\n",
    "\n",
    "The with statement provides a convenient way to ensure that resources are properly managed. When you use the with statement\n",
    "with the open function, you do not have to worry about manually closing the file. The with statement automatically\n",
    "closes the file for you, even if an exception is raised within the with block."
   ]
  },
  {
   "cell_type": "code",
   "execution_count": null,
   "id": "99fc88df-95e1-428a-9bf7-c0bb913e6c39",
   "metadata": {},
   "outputs": [],
   "source": [
    "Q6. Explain the write() and writelines() functions. Give a suitable example.\n",
    "Ans. read(): The read() method reads the entire contents of a file and returns it as a single string\n",
    "\n",
    "readline(): The readline() method reads one line of the file at a time and returns it as a string.\n",
    "\n",
    "readlines(): The readlines() method reads all the lines of the file and returns them as a list of strings, where each string is a line of the file"
   ]
  }
 ],
 "metadata": {
  "kernelspec": {
   "display_name": "Python 3 (ipykernel)",
   "language": "python",
   "name": "python3"
  },
  "language_info": {
   "codemirror_mode": {
    "name": "ipython",
    "version": 3
   },
   "file_extension": ".py",
   "mimetype": "text/x-python",
   "name": "python",
   "nbconvert_exporter": "python",
   "pygments_lexer": "ipython3",
   "version": "3.10.8"
  }
 },
 "nbformat": 4,
 "nbformat_minor": 5
}

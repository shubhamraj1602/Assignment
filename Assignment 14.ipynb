{
 "cells": [
  {
   "cell_type": "code",
   "execution_count": null,
   "id": "548b8dd1-0f35-4140-a657-d104380ce8e7",
   "metadata": {},
   "outputs": [],
   "source": [
    "Q1. what is multithreading in python? hy is it used? Name the module used to handle threads in python\n",
    "Ans. Multithreading in Python is a technique where a program is divided into multiple threads of execution\n",
    "that can run concurrently. Each thread is a separate flow of control that can perform a specific task,\n",
    "and the threads share the same memory space, allowing them to communicate and coordinate with each other.\n",
    "\n",
    "Multithreading is used in Python to perform multiple tasks simultaneously and make programs more efficient\n",
    "by utilizing the available hardware resources. It is especially useful in applications that involve I/O \n",
    "operations or other tasks that are blocking, as it allows the program to continue executing other\n",
    "tasks while waiting for the blocked task to complete.\n",
    "\n",
    "In Python, the threading module is used to handle threads. This module provides a simple and easy-to-use\n",
    "interface for creating and managing threads, with support for features such as thread synchronization, thread-safe data\n",
    "structures, and thread communication. The threading module is part of the standard Python library, so it is available on\n",
    "all platforms where Python is supported."
   ]
  },
  {
   "cell_type": "code",
   "execution_count": null,
   "id": "7a402222-9983-495c-9082-70ab758ec019",
   "metadata": {},
   "outputs": [],
   "source": [
    "Q2. why threading module used? write the use of the following functions\n",
    "activeCount() currentThread() enumerate()\n",
    "\n",
    "The threading module in Python is used to create and manage threads in a program. There are several\n",
    "reasons why you might want to use threading in your Python program:\n",
    "\n",
    "Concurrency: Threading allows multiple parts of a program to run concurrently, which can improve the performance\n",
    "and efficiency of the program. By running multiple threads at the same time, the program\n",
    "can utilize the available hardware resources more effectively.\n",
    "\n",
    "Asynchronous I/O: Threading can be used to perform asynchronous I/O operations, where the program can continue executing \n",
    "other tasks while waiting for I/O operations to complete. This can be useful in applications that involve network communication,\n",
    "file I/O, or other types of I/O that are blocking.\n",
    "\n",
    "Parallelism: Threading can be used to perform tasks in parallel, where multiple threads can work on the same task simultaneously.\n",
    "This can be useful in applications that involve heavy computation, as it can reduce the time required to complete the task.\n",
    "\n",
    "Synchronization: Threading provides mechanisms for synchronizing access to shared resources, such as data structures or files, \n",
    "to avoid conflicts and ensure thread safety.\n",
    "\n",
    "activeCount(): The activeCount() function is used to get the number of thread objects that are currently active in the program.\n",
    "This can be useful for monitoring the status of threads and ensuring that all threads have completed before exiting the program.\n",
    "\n",
    "currentThread(): The currentThread() function is used to get a reference to the current thread object that is executing the function. \n",
    "This can be useful for identifying the current thread, and for passing the thread object to other functions for manipulation.\n",
    "\n",
    "enumerate(): The enumerate() function is used to get a list of all thread objects that are currently active in the program. This can \n",
    "be useful for iterating over all active threads and performing operations on them, such as waiting for them to complete or checking their status."
   ]
  },
  {
   "cell_type": "code",
   "execution_count": null,
   "id": "3281df83-b4a8-4644-9255-bf08ed1cd528",
   "metadata": {},
   "outputs": [],
   "source": [
    "Q2. Explain the following functions\n",
    "run() start() join() isAlive()\n",
    "\n",
    "run(): The run() method is the entry point for the thread. When a thread is started,\n",
    "its run() method is called. This method can be overridden to define the thread's behavior.\n",
    "\n",
    "start(): The start() method is used to start the execution of a thread. When the start() method is called, \n",
    "the thread's run() method is executed in a separate thread of execution.\n",
    "\n",
    "join(): The join() method is used to wait for the thread to complete its execution. When the join() method is called,\n",
    "the program waits until the thread completes before continuing execution.\n",
    "\n",
    "isAlive(): The isAlive() method is used to check whether the thread is currently executing. The method returns True if \n",
    "the thread is currently executing, and False otherwise."
   ]
  },
  {
   "cell_type": "markdown",
   "id": "83c7a15e-2269-46e5-8e96-1feb5ddd667e",
   "metadata": {},
   "source": [
    "Q3. write a python program to create two threads. Thread one must print the list of squares and thread\n",
    "two must print the list of cubes"
   ]
  },
  {
   "cell_type": "code",
   "execution_count": 1,
   "id": "3cf17592-8e4d-43df-8653-340fc94a6aab",
   "metadata": {},
   "outputs": [
    {
     "name": "stdout",
     "output_type": "stream",
     "text": [
      "Square of 1 = 1\n",
      "Square of 2 = 4\n",
      "Square of 3 = 9\n",
      "Square of 4 = 16\n",
      "Square of 5 = 25\n",
      "Square of 6 = 36\n",
      "Square of 7 = 49\n",
      "Square of 8 = 64\n",
      "Square of 9 = 81\n",
      "Square of 10 = 100\n",
      "Cube of 1 = 1\n",
      "Cube of 2 = 8\n",
      "Cube of 3 = 27\n",
      "Cube of 4 = 64\n",
      "Cube of 5 = 125\n",
      "Cube of 6 = 216\n",
      "Cube of 7 = 343\n",
      "Cube of 8 = 512\n",
      "Cube of 9 = 729\n",
      "Cube of 10 = 1000\n"
     ]
    }
   ],
   "source": [
    "import threading\n",
    "\n",
    "def print_squares():\n",
    "    for i in range(1, 11):\n",
    "        print(f\"Square of {i} = {i**2}\")\n",
    "\n",
    "def print_cubes():\n",
    "    for i in range(1, 11):\n",
    "        print(f\"Cube of {i} = {i**3}\")\n",
    "\n",
    "t1 = threading.Thread(target=print_squares)\n",
    "t2 = threading.Thread(target=print_cubes)\n",
    "\n",
    "t1.start()\n",
    "t2.start()\n",
    "\n",
    "\n",
    "t1.join()\n",
    "t2.join()"
   ]
  },
  {
   "cell_type": "code",
   "execution_count": null,
   "id": "722c4c10-d895-4bd2-8dd3-9a5f74b1de21",
   "metadata": {},
   "outputs": [],
   "source": [
    "Q5. State advantages and disadvantages of multithreading\n",
    "Advantages of Multithreading:\n",
    "\n",
    "Improved performance: Multithreading allows a program to perform multiple tasks simultaneously,\n",
    "which can lead to better performance and faster execution times. This is especially useful in applications\n",
    "that involve I/O or other tasks that are blocking.\n",
    "\n",
    "Resource sharing: Multithreading allows threads to share resources such as memory and CPU time, which can\n",
    "lead to more efficient resource utilization.\n",
    "\n",
    "Asynchronous execution: Multithreading can be used to perform asynchronous I/O operations, where the program\n",
    "can continue executing other tasks while waiting for I/O operations to complete. This can improve the responsiveness of the program.\n",
    "\n",
    "Parallel processing: Multithreading can be used to perform tasks in parallel, where multiple threads can work \n",
    "on the same task simultaneously. This can reduce the time required to complete the task.\n",
    "\n",
    "Disadvantages of Multithreading:\n",
    "\n",
    "Complexity: Multithreading adds complexity to a program, making it more difficult to design, develop, and debug.\n",
    "It can be challenging to ensure thread safety and avoid race conditions and deadlocks.\n",
    "\n",
    "Overhead: Multithreading introduces overhead in terms of memory and CPU time, as each thread requires its own stack\n",
    "and context switching between threads requires additional processing time.\n",
    "\n",
    "Synchronization issues: Multithreading introduces synchronization issues, as threads may access shared resources \n",
    "simultaneously, leading to conflicts and data corruption.\n",
    "\n",
    "Debugging challenges: Debugging multithreaded programs can be challenging, as the behavior of the program can be \n",
    "non-deterministic and difficult to reproduce."
   ]
  },
  {
   "cell_type": "code",
   "execution_count": null,
   "id": "a6525bfa-482a-4cfe-b189-da8e058f4279",
   "metadata": {},
   "outputs": [],
   "source": [
    "Q6. Explain deadlocks and race conditions.\n",
    "Deadlocks occur when two or more threads are waiting for each other to release resources that they need in order\n",
    "to proceed. Deadlocks can occur when a thread holds a resource and then tries to acquire another resource that \n",
    "is held by another thread, which is also waiting for the first thread to release the resource it holds. This \n",
    "can result in a situation where both threads are waiting for each other to release the resources they need,\n",
    "and neither can proceed. Deadlocks can be\n",
    "difficult to detect and resolve, as they can be intermittent and dependent on timing and scheduling.\n",
    "\n",
    "Race conditions occur when two or more threads access a shared resource simultaneously and the behavior of the\n",
    "program depends on the order in which the threads execute. Race conditions can occur when a shared resource is\n",
    "not properly synchronized, allowing multiple threads to access it simultaneously. This can lead to unexpected \n",
    "and unpredictable behavior, as the behavior of the program depends on the timing and scheduling of the threads.\n",
    "Race conditions can be difficult to detect and reproduce, as they can be dependent on timing and other factors."
   ]
  }
 ],
 "metadata": {
  "kernelspec": {
   "display_name": "Python 3 (ipykernel)",
   "language": "python",
   "name": "python3"
  },
  "language_info": {
   "codemirror_mode": {
    "name": "ipython",
    "version": 3
   },
   "file_extension": ".py",
   "mimetype": "text/x-python",
   "name": "python",
   "nbconvert_exporter": "python",
   "pygments_lexer": "ipython3",
   "version": "3.10.8"
  }
 },
 "nbformat": 4,
 "nbformat_minor": 5
}

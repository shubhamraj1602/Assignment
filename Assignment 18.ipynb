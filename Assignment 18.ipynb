{
 "cells": [
  {
   "cell_type": "code",
   "execution_count": null,
   "id": "ef6925ea-e0b0-448f-afe1-da298a471519",
   "metadata": {},
   "outputs": [],
   "source": [
    "Q1. What is Flask Framework? What are the advantages of Flask Framework?\n",
    "Ans. Flask is a lightweight web framework written in Python. It is designed to be simple and easy to use, \n",
    "while still providing the flexibility and extensibility needed to build complex web applications. Flask is\n",
    "often used to build small to medium-sized web applications, RESTful APIs, and other web services.\n",
    "\n",
    "The advantages of using Flask Framework include:\n",
    "\n",
    "Lightweight: Flask is a lightweight framework, which means it has a small codebase and minimal dependencies. This\n",
    "makes it easy to install and maintain, and it can run on a wide range of systems.\n",
    "\n",
    "Flexibility: Flask allows developers to build web applications and services with a lot of flexibility. It is designed \n",
    "to be modular, which means you can easily add or remove features as needed.\n",
    "\n",
    "Easy to learn: Flask is relatively easy to learn compared to other web frameworks. It has a simple and intuitive API,\n",
    "and the documentation is extensive and easy to follow.\n",
    "\n",
    "Extensibility: Flask can be extended with a wide range of plugins and extensions, which can add new functionality and improve performance.\n",
    "\n",
    "Testing: Flask provides a simple and easy-to-use testing framework, which allows developers to test their code and ensure \n",
    "that it is working as expected.\n",
    "\n",
    "Large community: Flask has a large and active community of developers, which means there are plenty of resources available \n",
    "for learning and troubleshooting."
   ]
  },
  {
   "cell_type": "code",
   "execution_count": null,
   "id": "dcb98235-53a3-4613-8718-2db3804e1d34",
   "metadata": {},
   "outputs": [],
   "source": [
    "Q2. Create a simple Flask application to display ‘Hello World!!’. Attach the screenshot of the output in\n",
    "Jupyter Notebook.\n",
    "Ans. from flask import Flask\n",
    "\n",
    "app = Flask(__name__)\n",
    "\n",
    "@app.route('/')\n",
    "def hello_world():\n",
    "    return 'Hello World!!'\n",
    "\n",
    "if __name__ == '__main__':\n",
    "    app.run()"
   ]
  },
  {
   "cell_type": "code",
   "execution_count": null,
   "id": "b980e9cb-5a05-41f6-91ed-2109f6924836",
   "metadata": {},
   "outputs": [],
   "source": [
    "Q3. What is App routing in Flask? Why do we use app routes?\n",
    "Ans. In Flask, app routing refers to the process of defining URLs (or routes) for the various pages or\n",
    "functionalities of a web application. In other words, it's the mechanism used to map a URL to a Python function\n",
    "that generates the response for that URL.\n",
    "\n",
    "We use app routes in Flask to create a URL endpoint that will trigger a specific function in the Flask application.\n",
    "When a user visits a specific URL, Flask matches the URL with a registered function and executes it, returning the corresponding response."
   ]
  },
  {
   "cell_type": "code",
   "execution_count": null,
   "id": "04aea7b7-aae9-4543-b937-8ab83beb8417",
   "metadata": {},
   "outputs": [],
   "source": [
    "Q4. Create a “/welcome” route to display the welcome message “Welcome to ABC Corporation” and a “/”\n",
    "route to show the following details:\n",
    "Company Name: ABC Corporation\n",
    "Location: India\n",
    "Contact Detail: 999-999-9999\n",
    "Attach the screenshot of the output in Jupyter Notebook."
   ]
  },
  {
   "cell_type": "code",
   "execution_count": null,
   "id": "7fbb6d17-7dc3-42f7-9f83-cd3c27e3c974",
   "metadata": {},
   "outputs": [],
   "source": [
    "from flask import Flask\n",
    "\n",
    "app = Flask(__name__)\n",
    "\n",
    "@app.route('/welcome')\n",
    "def welcome():\n",
    "    return 'Welcome to ABC Corporation'\n",
    "\n",
    "@app.route('/')\n",
    "def company_details():\n",
    "    return 'Company Name: ABC Corporation<br>Location: India<br>Contact Detail: 999-999-9999'\n",
    "\n",
    "if __name__ == '__main__':\n",
    "    app.run()"
   ]
  },
  {
   "cell_type": "code",
   "execution_count": null,
   "id": "9fb976c7-f14f-41af-a658-642087d9e2af",
   "metadata": {},
   "outputs": [],
   "source": [
    "Company Name: ABC Corporation\n",
    "Location: India\n",
    "Contact Detail: 999-999-9999"
   ]
  },
  {
   "cell_type": "code",
   "execution_count": null,
   "id": "ed8bd469-f1a5-4106-ab35-e6d2cb6157fa",
   "metadata": {},
   "outputs": [],
   "source": [
    "Q5. What function is used in Flask for URL Building? Write a Python code to demonstrate the working of the\n",
    "url_for() function.\n",
    "Ans. In Flask, the url_for() function is used for URL building. It generates a URL for a given endpoint (function), \n",
    "which makes it easy to link to a specific page or functionality within a web application.\n",
    "\n",
    "Here's an example Python code to demonstrate the working of the url_for() function in Flask:"
   ]
  },
  {
   "cell_type": "code",
   "execution_count": null,
   "id": "2961a96b-5664-488d-aeff-bc1172bc8cd3",
   "metadata": {},
   "outputs": [],
   "source": [
    "from flask import Flask, url_for\n",
    "\n",
    "app = Flask(__name__)\n",
    "\n",
    "@app.route('/')\n",
    "def index():\n",
    "    return 'This is the homepage'\n",
    "\n",
    "@app.route('/about')\n",
    "def about():\n",
    "    return 'This is the about page'\n",
    "\n",
    "@app.route('/contact')\n",
    "def contact():\n",
    "    return 'This is the contact page'\n",
    "\n",
    "@app.route('/user/<username>')\n",
    "def profile(username):\n",
    "    return f'This is the profile page for {username}'\n",
    "\n",
    "with app.test_request_context():\n",
    "    print(url_for('index'))\n",
    "    print(url_for('about'))\n",
    "    print(url_for('contact'))\n",
    "    print(url_for('profile', username='john'))\n",
    "\n",
    "if __name__ == '__main__':\n",
    "    app.run()"
   ]
  }
 ],
 "metadata": {
  "kernelspec": {
   "display_name": "Python 3 (ipykernel)",
   "language": "python",
   "name": "python3"
  },
  "language_info": {
   "codemirror_mode": {
    "name": "ipython",
    "version": 3
   },
   "file_extension": ".py",
   "mimetype": "text/x-python",
   "name": "python",
   "nbconvert_exporter": "python",
   "pygments_lexer": "ipython3",
   "version": "3.10.8"
  }
 },
 "nbformat": 4,
 "nbformat_minor": 5
}

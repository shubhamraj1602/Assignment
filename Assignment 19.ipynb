{
 "cells": [
  {
   "cell_type": "code",
   "execution_count": null,
   "id": "e9ede680-83d3-4ee0-878a-01665533ab6e",
   "metadata": {},
   "outputs": [],
   "source": [
    "Q1. Explain GET and POST methods.\n",
    "Ans. In HTTP (Hypertext Transfer Protocol), GET and POST are two of the most commonly used\n",
    "methods for exchanging data between a client (usually a web browser) and a server.\n",
    "\n",
    "GET method:\n",
    "The GET method requests a representation of the specified resource, usually a web page, from the server.\n",
    "This method is used to retrieve data from the server, and it includes the requested data in the URL. The \n",
    "GET method is used for safe, idempotent, and cacheable operations. Safe means that using the GET method should \n",
    "not change the state of the server, and idempotent means that calling the method multiple times with the same \n",
    "parameters should produce the same result. Some examples of GET requests include retrieving a webpage, an image, or a JSON file.\n",
    "\n",
    "POST method:\n",
    "The POST method is used to submit an entity, usually in the form of a request body, to the server. This method\n",
    "is used to send data to the server for processing, and it does not include the data in the URL. The POST method \n",
    "is used for non-safe and non-idempotent operations, which means that calling the method multiple times with the\n",
    "same parameters may produce different results. Some examples of POST requests include submitting a form, uploading \n",
    "a file, or adding a record to a database.\n",
    "\n",
    "In summary, GET is used to retrieve data from the server while POST is used to send data to the server for processing."
   ]
  },
  {
   "cell_type": "code",
   "execution_count": null,
   "id": "87a9dca2-5970-4d4e-8105-1ebe404975cc",
   "metadata": {},
   "outputs": [],
   "source": [
    "Q2. Why is request used in Flask?\n",
    "Ans. In Flask, the request object is used to access the incoming client request data, such as form data, query parameters, and headers.\n",
    "\n",
    "Flask is a web application framework that allows developers to build web applications using Python.\n",
    "When a client sends a request to the Flask application, the request object is created by Flask to encapsulate all \n",
    "the data in the request, such as the HTTP method, the URL, the headers, the cookies, and the form data.\n",
    "\n",
    "The request object is an instance of the Request class, which is defined in the werkzeug library. The Request class\n",
    "provides a set of methods and properties to access and manipulate the request data. Some of the most commonly used properties \n",
    "and methods of the request object include:\n",
    "\n",
    "method: the HTTP method used in the request (e.g., GET, POST, PUT, DELETE).\n",
    "url: the full URL of the request, including the scheme, the host, the path, and the query string.\n",
    "headers: a dictionary containing the headers of the request.\n",
    "form: a dictionary containing the form data submitted in the request (if any).\n",
    "args: a dictionary containing the query parameters of the request.\n",
    "cookies: a dictionary containing the cookies sent in the request.\n",
    "In summary, the request object is used in Flask to access and manipulate the data sent by the client in the HTTP request."
   ]
  },
  {
   "cell_type": "code",
   "execution_count": null,
   "id": "ab52fbef-23f3-491e-b8fc-96acea3de4a2",
   "metadata": {},
   "outputs": [],
   "source": [
    "Q3. Why is redirect() used in Flask?\n",
    "Ans. In Flask, the redirect() function is used to redirect the client to a different URL.\n",
    "\n",
    "Redirecting the client to a different URL is useful in many scenarios, such as after a form submission,\n",
    "after a login/logout, or after a resource has been created or modified. Instead of returning a response\n",
    "with content, the Flask application can redirect the client to a different URL, which can be another\n",
    "route in the same Flask application or an external URL.\n",
    "\n",
    "The redirect() function creates a response with a 302 HTTP status code and a Location header set to the\n",
    "URL provided as an argument. When the client receives this response, it automatically sends a new request to the\n",
    "URL specified in the Location header."
   ]
  },
  {
   "cell_type": "code",
   "execution_count": null,
   "id": "a691ec86-bb91-4fa6-b691-45f71aa694f1",
   "metadata": {},
   "outputs": [],
   "source": [
    "Q4. What are templates in Flask? Why is the render_template() function used?\n",
    "Ans. In Flask, templates are used to generate dynamic HTML pages that are served to the client based on the data and\n",
    "logic of the application. Templates allow developers to separate the presentation layer from the application logic, \n",
    "which makes the code more maintainable, reusable, and flexible.\n",
    "\n",
    "A template in Flask is a file that contains HTML code with placeholders for dynamic content. The placeholders are usually \n",
    "defined using special syntax, such as {{ variable }} or {% statement %}, which are replaced with actual values or logic \n",
    "when the template is rendered.\n",
    "\n",
    "The render_template() function is used in Flask to render a template and generate an HTML page that is served to the client\n",
    "as a response. The render_template() function takes at least one argument, which is the name of the template file, and optionally\n",
    "additional arguments that are passed to the template context."
   ]
  },
  {
   "cell_type": "code",
   "execution_count": null,
   "id": "f4769fca-a35b-4650-8603-ebb0e1baac2c",
   "metadata": {},
   "outputs": [],
   "source": [
    "Q5. Create a simple API. Use Postman to test it. Attach the screenshot of the output in the Jupyter Notebook."
   ]
  },
  {
   "cell_type": "code",
   "execution_count": null,
   "id": "f1173dad-099f-4218-8190-c5a95c191f5b",
   "metadata": {},
   "outputs": [],
   "source": [
    "from flask import Flask, jsonify\n",
    "\n",
    "app = Flask(__name__)\n",
    "\n",
    "@app.route('/hello')\n",
    "def hello():\n",
    "    return jsonify({'message': 'Hello, World!'})\n",
    "\n",
    "if __name__ == '__main__':\n",
    "    app.run()"
   ]
  }
 ],
 "metadata": {
  "kernelspec": {
   "display_name": "Python 3 (ipykernel)",
   "language": "python",
   "name": "python3"
  },
  "language_info": {
   "codemirror_mode": {
    "name": "ipython",
    "version": 3
   },
   "file_extension": ".py",
   "mimetype": "text/x-python",
   "name": "python",
   "nbconvert_exporter": "python",
   "pygments_lexer": "ipython3",
   "version": "3.10.8"
  }
 },
 "nbformat": 4,
 "nbformat_minor": 5
}

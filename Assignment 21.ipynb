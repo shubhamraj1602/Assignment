{
 "cells": [
  {
   "cell_type": "code",
   "execution_count": null,
   "id": "dc3144f1-a36b-424c-9ba1-06614ea27164",
   "metadata": {},
   "outputs": [],
   "source": [
    "Q1. Write a python program to extract the video URL of the first five videos."
   ]
  },
  {
   "cell_type": "code",
   "execution_count": null,
   "id": "386f9987-07ba-49a3-ae4d-3874a1a1a6d0",
   "metadata": {},
   "outputs": [],
   "source": [
    "import requests\n",
    "from bs4 import BeautifulSoup\n",
    "\n",
    "# Set the URL of the YouTube search results page\n",
    "url = \"https://www.youtube.com/results?search_query=web+scraping\"\n",
    "\n",
    "# Send a GET request to the URL and get the HTML content\n",
    "response = requests.get(url)\n",
    "html_content = response.content\n",
    "\n",
    "# Parse the HTML content with Beautiful Soup\n",
    "soup = BeautifulSoup(html_content, 'html.parser')\n",
    "\n",
    "# Find the first five video links on the page\n",
    "video_links = soup.find_all('a', class_='yt-simple-endpoint style-scope ytd-video-renderer')\n",
    "for i in range(5):\n",
    "    # Get the URL of the video\n",
    "    video_url = \"https://www.youtube.com\" + video_links[i]['href']\n",
    "    print(video_url)"
   ]
  },
  {
   "cell_type": "code",
   "execution_count": null,
   "id": "4ab0a217-be23-4340-a610-7e60125e12a3",
   "metadata": {},
   "outputs": [],
   "source": [
    "Q2. Write a python program to extract the URL of the video thumbnails of the first five videos."
   ]
  },
  {
   "cell_type": "code",
   "execution_count": null,
   "id": "e6816a13-5c68-455d-9cdc-3ba14092513d",
   "metadata": {},
   "outputs": [],
   "source": [
    "import requests\n",
    "from bs4 import BeautifulSoup\n",
    "\n",
    "# Set the URL of the YouTube search results page\n",
    "url = \"https://www.youtube.com/results?search_query=web+scraping\"\n",
    "\n",
    "# Send a GET request to the URL and get the HTML content\n",
    "response = requests.get(url)\n",
    "html_content = response.content\n",
    "\n",
    "# Parse the HTML content with Beautiful Soup\n",
    "soup = BeautifulSoup(html_content, 'html.parser')\n",
    "\n",
    "# Find the first five video links on the page\n",
    "video_links = soup.find_all('a', class_='yt-simple-endpoint style-scope ytd-video-renderer')\n",
    "for i in range(5):\n",
    "    # Get the URL of the video thumbnail\n",
    "    thumbnail_url = video_links[i].find('img', class_='style-scope yt-img-shadow')['src']\n",
    "    print(thumbnail_url)"
   ]
  },
  {
   "cell_type": "code",
   "execution_count": null,
   "id": "5024c57f-7cc6-495c-837f-fcdf39ffc0a2",
   "metadata": {},
   "outputs": [],
   "source": [
    "Q3. Write a python program to extract the title of the first five videos."
   ]
  },
  {
   "cell_type": "code",
   "execution_count": null,
   "id": "d8cc2f38-5e5d-44dd-91ea-59a97c5e6b1e",
   "metadata": {},
   "outputs": [],
   "source": [
    "import requests\n",
    "from bs4 import BeautifulSoup\n",
    "\n",
    "# Set the URL of the YouTube search results page\n",
    "url = \"https://www.youtube.com/results?search_query=web+scraping\"\n",
    "\n",
    "# Send a GET request to the URL and get the HTML content\n",
    "response = requests.get(url)\n",
    "html_content = response.content\n",
    "\n",
    "# Parse the HTML content with Beautiful Soup\n",
    "soup = BeautifulSoup(html_content, 'html.parser')\n",
    "\n",
    "# Find the first five video links on the page\n",
    "video_links = soup.find_all('a', class_='yt-simple-endpoint style-scope ytd-video-renderer')\n",
    "for i in range(5):\n",
    "    # Get the title of the video\n",
    "    video_title = video_links[i].find('yt-formatted-string', class_='style-scope ytd-video-renderer').text\n",
    "    print(video_title)"
   ]
  },
  {
   "cell_type": "code",
   "execution_count": null,
   "id": "a61ae837-709b-4595-aaf6-3f3b32422491",
   "metadata": {},
   "outputs": [],
   "source": [
    "Q4. Write a python program to extract the number of views of the first five videos."
   ]
  },
  {
   "cell_type": "code",
   "execution_count": null,
   "id": "dcfe9bd5-f948-41aa-b1d4-eb9dddf1584e",
   "metadata": {},
   "outputs": [],
   "source": [
    "import requests\n",
    "from bs4 import BeautifulSoup\n",
    "\n",
    "# Set the URL of the YouTube search results page\n",
    "url = \"https://www.youtube.com/results?search_query=web+scraping\"\n",
    "\n",
    "# Send a GET request to the URL and get the HTML content\n",
    "response = requests.get(url)\n",
    "html_content = response.content\n",
    "\n",
    "# Parse the HTML content with Beautiful Soup\n",
    "soup = BeautifulSoup(html_content, 'html.parser')\n",
    "\n",
    "# Find the first five video links on the page\n",
    "video_links = soup.find_all('a', class_='yt-simple-endpoint style-scope ytd-video-renderer')\n",
    "for i in range(5):\n",
    "    # Get the number of views of the video\n",
    "    video_views = video_links[i].find('span', class_='style-scope ytd-video-meta-block').text\n",
    "    print(video_views)"
   ]
  },
  {
   "cell_type": "code",
   "execution_count": null,
   "id": "ee714f4a-fdce-4007-bdf9-ad5e91cae02f",
   "metadata": {},
   "outputs": [],
   "source": [
    "Q5. Write a python program to extract the time of posting of video for the first five videos."
   ]
  },
  {
   "cell_type": "code",
   "execution_count": null,
   "id": "9ac4d29a-7a85-44cb-ba23-78f26c7b940d",
   "metadata": {},
   "outputs": [],
   "source": [
    "import requests\n",
    "from bs4 import BeautifulSoup\n",
    "\n",
    "# Set the URL of the YouTube search results page\n",
    "url = \"https://www.youtube.com/results?search_query=web+scraping\"\n",
    "\n",
    "# Send a GET request to the URL and get the HTML content\n",
    "response = requests.get(url)\n",
    "html_content = response.content\n",
    "\n",
    "# Parse the HTML content with Beautiful Soup\n",
    "soup = BeautifulSoup(html_content, 'html.parser')\n",
    "\n",
    "# Find the first five video links on the page\n",
    "video_links = soup.find_all('a', class_='yt-simple-endpoint style-scope ytd-video-renderer')\n",
    "for i in range(5):\n",
    "    # Get the time of posting for the video\n",
    "    video_time = video_links[i].find('span', class_='style-scope ytd-video-meta-block').find_all('span')[1].text\n",
    "    print(video_time)"
   ]
  }
 ],
 "metadata": {
  "kernelspec": {
   "display_name": "Python 3 (ipykernel)",
   "language": "python",
   "name": "python3"
  },
  "language_info": {
   "codemirror_mode": {
    "name": "ipython",
    "version": 3
   },
   "file_extension": ".py",
   "mimetype": "text/x-python",
   "name": "python",
   "nbconvert_exporter": "python",
   "pygments_lexer": "ipython3",
   "version": "3.10.8"
  }
 },
 "nbformat": 4,
 "nbformat_minor": 5
}

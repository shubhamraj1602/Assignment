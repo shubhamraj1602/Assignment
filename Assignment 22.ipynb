{
 "cells": [
  {
   "cell_type": "code",
   "execution_count": null,
   "id": "b94cd7d0-e608-41fd-87a0-b8b19c56769b",
   "metadata": {},
   "outputs": [],
   "source": [
    "Q1. Create a Pandas Series that contains the following data: 4, 8, 15, 16, 23, and 42. Then, print the series."
   ]
  },
  {
   "cell_type": "code",
   "execution_count": 1,
   "id": "1b7a6e42-686f-42ff-9296-438dda6b3928",
   "metadata": {},
   "outputs": [
    {
     "name": "stdout",
     "output_type": "stream",
     "text": [
      "0     4\n",
      "1     8\n",
      "2    15\n",
      "3    16\n",
      "4    23\n",
      "5    42\n",
      "dtype: int64\n"
     ]
    }
   ],
   "source": [
    "import pandas as pd\n",
    "\n",
    "# Create a Pandas Series\n",
    "data = [4, 8, 15, 16, 23, 42]\n",
    "series = pd.Series(data)\n",
    "\n",
    "# Print the Series\n",
    "print(series)"
   ]
  },
  {
   "cell_type": "code",
   "execution_count": null,
   "id": "5cb25c28-0846-4ca6-84ee-5b3143e78925",
   "metadata": {},
   "outputs": [],
   "source": [
    "Q2. Create a variable of list type containing 10 elements in it, and apply pandas.Series function on the\n",
    "variable print it."
   ]
  },
  {
   "cell_type": "code",
   "execution_count": 2,
   "id": "7c8440b1-be0c-49ed-a698-4d24643e1b75",
   "metadata": {},
   "outputs": [
    {
     "name": "stdout",
     "output_type": "stream",
     "text": [
      "0     10\n",
      "1     20\n",
      "2     30\n",
      "3     40\n",
      "4     50\n",
      "5     60\n",
      "6     70\n",
      "7     80\n",
      "8     90\n",
      "9    100\n",
      "dtype: int64\n"
     ]
    }
   ],
   "source": [
    "import pandas as pd\n",
    "\n",
    "# Create a list of 10 elements\n",
    "my_list = [10, 20, 30, 40, 50, 60, 70, 80, 90, 100]\n",
    "\n",
    "# Convert the list to a Pandas Series\n",
    "my_series = pd.Series(my_list)\n",
    "\n",
    "# Print the Series\n",
    "print(my_series)"
   ]
  },
  {
   "cell_type": "code",
   "execution_count": null,
   "id": "0ccc72b4-bcca-4418-8a6f-41f4e16efed6",
   "metadata": {},
   "outputs": [],
   "source": [
    "Q3. Create a Pandas DataFrame that contains the following data:\n",
    "    \n",
    "Name\n",
    "Alice\n",
    "Bob\n",
    "Claire\n",
    "\n",
    "Age\n",
    "25\n",
    "30\n",
    "27\n",
    "\n",
    "Gender\n",
    "Female\n",
    "Male\n",
    "Female\n",
    "\n",
    "Then, print the DataFrame."
   ]
  },
  {
   "cell_type": "code",
   "execution_count": 3,
   "id": "281eac92-70a7-4027-bd4d-d3ae4325dd18",
   "metadata": {},
   "outputs": [
    {
     "name": "stdout",
     "output_type": "stream",
     "text": [
      "     Name  Age  Gender\n",
      "0   Alice   25  Female\n",
      "1     Bob   30    Male\n",
      "2  Claire   27  Female\n"
     ]
    }
   ],
   "source": [
    "import pandas as pd\n",
    "\n",
    "# Create a dictionary with the data\n",
    "data = {'Name': ['Alice', 'Bob', 'Claire'],\n",
    "        'Age': [25, 30, 27],\n",
    "        'Gender': ['Female', 'Male', 'Female']}\n",
    "\n",
    "# Create a Pandas DataFrame from the dictionary\n",
    "df = pd.DataFrame(data)\n",
    "\n",
    "# Print the DataFrame\n",
    "print(df)\n"
   ]
  },
  {
   "cell_type": "code",
   "execution_count": null,
   "id": "fb05575a-4e67-403d-a2cc-4063db0dc181",
   "metadata": {},
   "outputs": [],
   "source": [
    "Q4. What is ‘DataFrame’ in pandas and how is it different from pandas.series? Explain with an example.\n",
    "Ans. n Pandas, a DataFrame is a two-dimensional labeled data structure that consists of rows and columns, similar to a table in\n",
    "a relational database or an Excel spreadsheet. Each column in a DataFrame can be of a different data type, such as float, int, or string.\n",
    "\n",
    "On the other hand, a Pandas Series is a one-dimensional labeled array that can hold data of any type. The data can be labeled \n",
    "with an index, which can be of any type, such as integers or strings.\n",
    "\n",
    "The main difference between a Pandas Series and a DataFrame is that a Series represents a single column of data, while a DataFrame\n",
    "represents multiple columns of data."
   ]
  },
  {
   "cell_type": "code",
   "execution_count": null,
   "id": "138f0437-cb6a-4dc9-ba78-8ca7778a5f4e",
   "metadata": {},
   "outputs": [
    {
     "name": "stdout",
     "output_type": "stream",
     "text": [
      "0    10\n",
      "1    20\n",
      "2    30\n",
      "3    40\n",
      "4    50\n",
      "dtype: int64\n",
      "   A  B\n",
      "0  1  a\n",
      "1  2  b\n",
      "2  3  c\n",
      "3  4  d\n",
      "4  5  e\n"
     ]
    }
   ],
   "source": [
    "import pandas as pd\n",
    "\n",
    "# Create a Pandas Series with some data\n",
    "s = pd.Series([10, 20, 30, 40, 50])\n",
    "\n",
    "# Create a Pandas DataFrame with two columns\n",
    "df = pd.DataFrame({'A': [1, 2, 3, 4, 5], 'B': ['a', 'b', 'c', 'd', 'e']})\n",
    "\n",
    "# Print the Series and DataFrame\n",
    "print(s)\n",
    "print(df)"
   ]
  },
  {
   "cell_type": "code",
   "execution_count": null,
   "id": "5549b543-d6a8-4fe6-8688-9a24d5f875f6",
   "metadata": {},
   "outputs": [],
   "source": [
    "Q5. What are some common functions you can use to manipulate data in a Pandas DataFrame? Can\n",
    "you give an example of when you might use one of these functions?\n",
    "Ans. Pandas provides a wide range of functions for manipulating data in a DataFrame. Here are some of the most commonly used functions:\n",
    "\n",
    "head() - Returns the first n rows of the DataFrame. Useful for quickly checking the structure of the DataFrame.\n",
    "\n",
    "tail() - Returns the last n rows of the DataFrame.\n",
    "\n",
    "describe() - Generates descriptive statistics for the DataFrame, such as count, mean, standard deviation, minimum, maximum, etc.\n",
    "\n",
    "info() - Provides information about the DataFrame, such as the data types of each column and the number of non-null values.\n",
    "\n",
    "sort_values() - Sorts the DataFrame by one or more columns.\n",
    "\n",
    "groupby() - Groups the DataFrame by one or more columns, allowing you to perform operations on each group.\n",
    "\n",
    "drop() - Removes one or more columns or rows from the DataFrame.\n",
    "\n",
    "fillna() - Fills in missing values in the DataFrame with a specified value.\n",
    "\n",
    "apply() - Applies a function to each column or row in the DataFrame.\n",
    "\n",
    "pivot_table() - Creates a pivot table based on the data in the DataFrame."
   ]
  },
  {
   "cell_type": "code",
   "execution_count": null,
   "id": "b7e4c23e-edc9-450a-b61b-0d60da2c6a71",
   "metadata": {},
   "outputs": [],
   "source": [
    "Q6. Which of the following is mutable in nature Series, DataFrame, Panel?\n",
    "Ans. Series and DataFrame are mutable in nature, whereas Panel is deprecated since pandas version 1.0.0 and is \n",
    "no longer recommended for use."
   ]
  },
  {
   "cell_type": "code",
   "execution_count": null,
   "id": "fb773c38-4b7d-4035-ae5d-0a3f36764061",
   "metadata": {},
   "outputs": [],
   "source": [
    "Q7. Create a DataFrame using multiple Series. Explain with an example.\n",
    "Ans. We can create a DataFrame using multiple Series by passing them as a dictionary to the DataFrame constructor. Each Series will become a column in the resulting DataFrame, and the index of the DataFrame\n",
    "will be the union of the indices of the input Series."
   ]
  },
  {
   "cell_type": "code",
   "execution_count": 7,
   "id": "90d80406-1efa-41dc-a96c-f7a6e989b74f",
   "metadata": {},
   "outputs": [
    {
     "name": "stdout",
     "output_type": "stream",
     "text": [
      "     Name  Age  Gender\n",
      "0   Alice   25  Female\n",
      "1     Bob   30    Male\n",
      "2  Claire   27  Female\n"
     ]
    }
   ],
   "source": [
    "import pandas as pd\n",
    "\n",
    "# create a series for each column\n",
    "names = pd.Series(['Alice', 'Bob', 'Claire'])\n",
    "ages = pd.Series([25, 30, 27])\n",
    "genders = pd.Series(['Female', 'Male', 'Female'])\n",
    "\n",
    "# create a dictionary with keys as column names and values as series\n",
    "data = {'Name': names, 'Age': ages, 'Gender': genders}\n",
    "\n",
    "# create the DataFrame\n",
    "df = pd.DataFrame(data)\n",
    "\n",
    "# print the DataFrame\n",
    "print(df)"
   ]
  },
  {
   "cell_type": "code",
   "execution_count": null,
   "id": "d608c1cc-f611-4bfd-a631-7ed4c921887e",
   "metadata": {},
   "outputs": [],
   "source": []
  }
 ],
 "metadata": {
  "kernelspec": {
   "display_name": "Python 3 (ipykernel)",
   "language": "python",
   "name": "python3"
  },
  "language_info": {
   "codemirror_mode": {
    "name": "ipython",
    "version": 3
   },
   "file_extension": ".py",
   "mimetype": "text/x-python",
   "name": "python",
   "nbconvert_exporter": "python",
   "pygments_lexer": "ipython3",
   "version": "3.10.8"
  }
 },
 "nbformat": 4,
 "nbformat_minor": 5
}

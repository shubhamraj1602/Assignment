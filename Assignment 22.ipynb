{
 "cells": [
  {
   "cell_type": "code",
   "execution_count": null,
   "id": "3917005f-ba60-48d1-ab54-f35141b4ddef",
   "metadata": {},
   "outputs": [],
   "source": [
    "Go to this given URL and solve the following questions URL:https://www.youtube.com/@PW-Foundation/videos"
   ]
  },
  {
   "cell_type": "code",
   "execution_count": null,
   "id": "0015e1ef-ceca-4e84-b3f8-c23f2b556e26",
   "metadata": {},
   "outputs": [],
   "source": [
    "from selenium import webdriver\n",
    "from selenium.webdriver.common.by import By\n",
    "from webdriver_manager.chrome import ChromeDriverManager"
   ]
  },
  {
   "cell_type": "code",
   "execution_count": null,
   "id": "b96189f9-00e8-46f4-8f6e-c8c4a2b28ce4",
   "metadata": {},
   "outputs": [],
   "source": [
    "driver = webdriver.Chrome(ChromeDriverManager().install())\n",
    "driver.get(\"https://www.youtube.com/@PW-Foundation/videos\")"
   ]
  },
  {
   "cell_type": "code",
   "execution_count": null,
   "id": "643c3005-2d1f-428f-b997-159948849a16",
   "metadata": {},
   "outputs": [],
   "source": [
    "Q1. Write a python program to extract the video URL of the first five videos."
   ]
  },
  {
   "cell_type": "code",
   "execution_count": null,
   "id": "03a4be20-74d3-4a82-8cf9-9bca6e2bb71b",
   "metadata": {},
   "outputs": [],
   "source": [
    "links = driver.find_elements(By.TAG_NAME,\"a\")\n",
    "urls = []\n",
    "for link in links:\n",
    "    url = link.get_attribute(\"href\")\n",
    "    urls.append(url)"
   ]
  },
  {
   "cell_type": "code",
   "execution_count": null,
   "id": "19451e77-3e0e-4fd6-a831-7b5fe56668ee",
   "metadata": {},
   "outputs": [],
   "source": [
    "first_5_links = []\n",
    "for url in urls[17:25]:\n",
    "    if url == None:\n",
    "        continue\n",
    "    else:\n",
    "        first_5_links.append(url)\n",
    "print(first_5_links)"
   ]
  },
  {
   "cell_type": "code",
   "execution_count": null,
   "id": "d132a7ea-c3ad-44e0-89c8-644e3d4bab3a",
   "metadata": {},
   "outputs": [],
   "source": [
    "Q2. Write a python program to extract the URL of the video thumbnails of the first five videos."
   ]
  },
  {
   "cell_type": "code",
   "execution_count": null,
   "id": "d9094c2f-7c1e-4ae2-b3af-90fa43f6503d",
   "metadata": {},
   "outputs": [],
   "source": [
    "driver.get(\"https://www.youtube.com/@PW-Foundation/videos\")\n",
    "links = driver.find_elements(By.TAG_NAME,\"img\")\n",
    "thumbnails = []\n",
    "for thumbnail in links[8:18]:\n",
    "    thumbnail = thumbnail.get_attribute(\"src\")\n",
    "    if thumbnail == None:\n",
    "        continue\n",
    "    else:\n",
    "        thumbnails.append(thumbnail)\n",
    "print(len(thumbnails))\n",
    "for i in thumbnails:\n",
    "    print(i)"
   ]
  },
  {
   "cell_type": "code",
   "execution_count": null,
   "id": "095e557b-7835-4976-9619-b2f2ccb7512f",
   "metadata": {},
   "outputs": [],
   "source": [
    "Q3. Write a python program to extract the title of the first five videos."
   ]
  },
  {
   "cell_type": "code",
   "execution_count": null,
   "id": "00c49427-dbfe-4b12-af24-14fc03fd2f66",
   "metadata": {},
   "outputs": [],
   "source": [
    "#title\n",
    "driver.get(\"https://www.youtube.com/@PW-Foundation/videos\")\n",
    "titles = driver.find_elements(By.TAG_NAME,\"yt-formatted-string\")\n",
    "titles_video = []\n",
    "# print(links)\n",
    "for i in titles[15:35:4]:\n",
    "    titles_video.append(i.text)\n",
    "print(titles_video)"
   ]
  },
  {
   "cell_type": "code",
   "execution_count": null,
   "id": "91a25e14-d78b-49ba-951d-ea139648438e",
   "metadata": {},
   "outputs": [],
   "source": [
    "Q4. Write a python program to extract the number of views of the first five videos."
   ]
  },
  {
   "cell_type": "code",
   "execution_count": null,
   "id": "cd166a55-fa6b-4ee9-b2c1-675948e5ef61",
   "metadata": {},
   "outputs": [],
   "source": [
    "#views\n",
    "driver.get(\"https://www.youtube.com/@PW-Foundation/videos\")\n",
    "views = driver.find_elements(By.TAG_NAME,\"span\")\n",
    "video_views = []\n",
    "for i in views[23:48]:\n",
    "    if str(\"views\") in i.text:\n",
    "        video_views.append(i.text)\n",
    "print(video_views)"
   ]
  },
  {
   "cell_type": "code",
   "execution_count": null,
   "id": "945735ff-65c6-4940-b5f2-8c36a5b5b68a",
   "metadata": {},
   "outputs": [],
   "source": [
    "Q5. Write a python program to extract the time of posting of video for the first five videos."
   ]
  },
  {
   "cell_type": "code",
   "execution_count": null,
   "id": "64ba4673-59b1-47c0-bb30-875cedd48adc",
   "metadata": {},
   "outputs": [],
   "source": [
    "#posting time\n",
    "driver.get(\"https://www.youtube.com/@PW-Foundation/videos\")\n",
    "times = driver.find_elements(By.TAG_NAME,\"span\")\n",
    "video_times = []\n",
    "for i in times[24:]:\n",
    "    if str(\"day\") in i.text:\n",
    "        video_times.append(i.text)\n",
    "print(video_times)\n",
    "['1 day ago', '2 days ago', '3 days ago', '4 days ago', '9 days ago']\n",
    "Note: Save all the data scraped in the above questions in a CSV file."
   ]
  },
  {
   "cell_type": "code",
   "execution_count": null,
   "id": "a51d9045-857a-4703-9207-bca9a490c925",
   "metadata": {},
   "outputs": [],
   "source": [
    "# print(first_5_links)\n",
    "# print(thumbnails)\n",
    "# print(titles_video)\n",
    "# print(video_views)\n",
    "print(video_times)"
   ]
  },
  {
   "cell_type": "code",
   "execution_count": null,
   "id": "0958e0b0-4c74-4a86-a672-9c006991e90a",
   "metadata": {},
   "outputs": [],
   "source": [
    "import csv"
   ]
  },
  {
   "cell_type": "code",
   "execution_count": null,
   "id": "f7cf1dd4-b4a8-4bab-8514-82cd99f5c57b",
   "metadata": {},
   "outputs": [],
   "source": [
    "for i in range(len(first_5_links)-1):\n",
    "    data_csv = str(first_5_links[i]),str(thumbnails[i]),str(titles_video[i]),str(video_views[i]),str(video_times[i])    \n",
    "\n",
    "    with open('video_details.csv', 'w',encoding='utf-8', newline='') as file:\n",
    "        writer = csv.writer(file)\n",
    "        writer.writerow(data_csv)\n",
    "print('done"
   ]
  }
 ],
 "metadata": {
  "kernelspec": {
   "display_name": "Python 3 (ipykernel)",
   "language": "python",
   "name": "python3"
  },
  "language_info": {
   "codemirror_mode": {
    "name": "ipython",
    "version": 3
   },
   "file_extension": ".py",
   "mimetype": "text/x-python",
   "name": "python",
   "nbconvert_exporter": "python",
   "pygments_lexer": "ipython3",
   "version": "3.10.8"
  }
 },
 "nbformat": 4,
 "nbformat_minor": 5
}

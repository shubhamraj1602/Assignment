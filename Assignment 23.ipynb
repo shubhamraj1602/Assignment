{
 "cells": [
  {
   "cell_type": "code",
   "execution_count": null,
   "id": "1f486bd9-3a20-493f-b34f-f1b80a653563",
   "metadata": {},
   "outputs": [],
   "source": [
    "Q1. List any five functions of the pandas library with execution.\n",
    "ANs. read_csv(): This function is used to read a CSV (Comma Separated Values) file and convert it into a pandas DataFrame. \n",
    "import pandas as pd\n",
    "\n",
    "# read a CSV file into a DataFrame\n",
    "df = pd.read_csv('data.csv')\n",
    "\n",
    "# print the first five rows of the DataFrame\n",
    "print(df.head())\n",
    "\n",
    "groupby(): This function is used to group rows of a DataFrame based on one or more columns, and apply a function to each group. \n",
    "import pandas as pd\n",
    "\n",
    "# read a CSV file into a DataFrame\n",
    "df = pd.read_csv('data.csv')\n",
    "\n",
    "# group the rows by the 'category' column and compute the mean of the 'value' column for each group\n",
    "result = df.groupby('category')['value'].mean()\n",
    "\n",
    "# print the result\n",
    "print(result)\n",
    "\n",
    "fillna(): This function is used to fill missing values in a DataFrame with a specified value or method.\n",
    "import pandas as pd\n",
    "\n",
    "# create a DataFrame with missing values\n",
    "df = pd.DataFrame({'A': [1, 2, None, 4, None], 'B': [None, 5, 6, None, 8]})\n",
    "\n",
    "# fill missing values with the mean of each column\n",
    "df.fillna(df.mean(), inplace=True)\n",
    "\n",
    "# print the result\n",
    "print(df)\n",
    "\n",
    "pivot_table(): This function is used to create a pivot table from a DataFrame. A pivot table is a way to summarize and analyze\n",
    "data in a tabular format.\n",
    "import pandas as pd\n",
    "\n",
    "# read a CSV file into a DataFrame\n",
    "df = pd.read_csv('data.csv')\n",
    "\n",
    "# create a pivot table that shows the mean value of 'value' for each combination of 'category' and 'year'\n",
    "result = pd.pivot_table(df, values='value', index='category', columns='year', aggfunc='mean')\n",
    "\n",
    "# print the result\n",
    "print(result)\n",
    "\n",
    "read_csv(): This function is used to read a CSV (Comma Separated Values) file and convert it into a pandas DataFrame. Here's an example:\n",
    "python\n",
    "Copy code\n",
    "import pandas as pd\n",
    "\n",
    "# read a CSV file into a DataFrame\n",
    "df = pd.read_csv('data.csv')\n",
    "\n",
    "# print the first five rows of the DataFrame\n",
    "print(df.head())\n",
    "groupby(): This function is used to group rows of a DataFrame based on one or more columns, and apply a function to each group. Here's an example:\n",
    "python\n",
    "Copy code\n",
    "import pandas as pd\n",
    "\n",
    "# read a CSV file into a DataFrame\n",
    "df = pd.read_csv('data.csv')\n",
    "\n",
    "# group the rows by the 'category' column and compute the mean of the 'value' column for each group\n",
    "result = df.groupby('category')['value'].mean()\n",
    "\n",
    "# print the result\n",
    "print(result)\n",
    "fillna(): This function is used to fill missing values in a DataFrame with a specified value or method. Here's an example:\n",
    "python\n",
    "Copy code\n",
    "import pandas as pd\n",
    "\n",
    "# create a DataFrame with missing values\n",
    "df = pd.DataFrame({'A': [1, 2, None, 4, None], 'B': [None, 5, 6, None, 8]})\n",
    "\n",
    "# fill missing values with the mean of each column\n",
    "df.fillna(df.mean(), inplace=True)\n",
    "\n",
    "# print the result\n",
    "print(df)\n",
    "pivot_table(): This function is used to create a pivot table from a DataFrame. A pivot table is a way to summarize and analyze data in a tabular format. Here's an example:\n",
    "python\n",
    "Copy code\n",
    "import pandas as pd\n",
    "\n",
    "# read a CSV file into a DataFrame\n",
    "df = pd.read_csv('data.csv')\n",
    "\n",
    "# create a pivot table that shows the mean value of 'value' for each combination of 'category' and 'year'\n",
    "result = pd.pivot_table(df, values='value', index='category', columns='year', aggfunc='mean')\n",
    "\n",
    "# print the result\n",
    "print(result)\n",
    "\n",
    "merge(): This function is used to merge two or more DataFrames based on a common column.\n",
    "import pandas as pd\n",
    "\n",
    "# create two DataFrames\n",
    "df1 = pd.DataFrame({'key': ['A', 'B', 'C', 'D'], 'value': [1, 2, 3, 4]})\n",
    "df2 = pd.DataFrame({'key': ['B', 'D', 'E', 'F'], 'value': [5, 6, 7, 8]})\n",
    "\n",
    "# merge the two DataFrames on the 'key' column\n",
    "result = pd.merge(df1, df2, on='key')\n",
    "\n",
    "# print the result\n",
    "print(result)"
   ]
  },
  {
   "cell_type": "code",
   "execution_count": null,
   "id": "e88fae51-b23f-4857-a353-ec84514b82aa",
   "metadata": {},
   "outputs": [],
   "source": [
    "Q2. Given a Pandas DataFrame df with columns 'A', 'B', and 'C', write a Python function to re-index the\n",
    "DataFrame with a new index that starts from 1 and increments by 2 for each row."
   ]
  },
  {
   "cell_type": "code",
   "execution_count": 8,
   "id": "dd30f017-70f9-4e1e-89f0-9a52d8b90ead",
   "metadata": {},
   "outputs": [],
   "source": [
    "import pandas as pd\n",
    "\n",
    "def reindex_dataframe(df):\n",
    "    new_index = range(1, 2*len(df)+1, 2)\n",
    "    return df.set_index(pd.Index(new_index))"
   ]
  },
  {
   "cell_type": "code",
   "execution_count": 9,
   "id": "2f7186a4-4fdb-45aa-9078-b8df0e4de89f",
   "metadata": {},
   "outputs": [
    {
     "name": "stdout",
     "output_type": "stream",
     "text": [
      "    A    B     C\n",
      "1  10  100  1000\n",
      "3  20  200  2000\n",
      "5  30  300  3000\n"
     ]
    }
   ],
   "source": [
    "# Create a sample DataFrame\n",
    "df = pd.DataFrame({'A': [10, 20, 30], 'B': [100, 200, 300], 'C': [1000, 2000, 3000]})\n",
    "\n",
    "# Call the reindex_dataframe function\n",
    "new_df = reindex_dataframe(df)\n",
    "\n",
    "# Print the new DataFrame\n",
    "print(new_df)"
   ]
  },
  {
   "cell_type": "code",
   "execution_count": null,
   "id": "6a16a059-7075-445c-9a7b-3564eb1b3dc9",
   "metadata": {},
   "outputs": [],
   "source": [
    "Q3. You have a Pandas DataFrame df with a column named 'Values'. Write a Python function that\n",
    "iterates over the DataFrame and calculates the sum of the first three values in the 'Values' column. The\n",
    "function should print the sum to the console.\n",
    "For example, if the 'Values' column of df contains the values [10, 20, 30, 40, 50], your function should\n",
    "calculate and print the sum of the first three values, which is 60."
   ]
  },
  {
   "cell_type": "code",
   "execution_count": 4,
   "id": "acd9e849-8f84-4f67-bfb5-75c8e2c5c317",
   "metadata": {},
   "outputs": [],
   "source": [
    "import pandas as pd\n",
    "\n",
    "def sum_first_three(df):\n",
    "    values = df['Values'][:3]\n",
    "    total = sum(values)\n",
    "    print(\"The sum of the first three values in the 'Values' column is:\", total)"
   ]
  },
  {
   "cell_type": "code",
   "execution_count": 6,
   "id": "c09bf32e-6481-46aa-8ca8-f84b575d801e",
   "metadata": {},
   "outputs": [
    {
     "name": "stdout",
     "output_type": "stream",
     "text": [
      "The sum of the first three values in the 'Values' column is: 60\n"
     ]
    }
   ],
   "source": [
    "df = pd.DataFrame({'Values': [10, 20, 30, 40, 50]})\n",
    "sum_first_three(df)"
   ]
  },
  {
   "cell_type": "code",
   "execution_count": null,
   "id": "c4c46cdc-d805-410e-ba7d-276ff3b26938",
   "metadata": {},
   "outputs": [],
   "source": [
    "Q4. Given a Pandas DataFrame df with a column 'Text', write a Python function to create a new column\n",
    "'Word_Count' that contains the number of words in each row of the 'Text' column."
   ]
  },
  {
   "cell_type": "code",
   "execution_count": 10,
   "id": "e8e29335-2e67-42c8-9de3-d41eff2910bd",
   "metadata": {},
   "outputs": [],
   "source": [
    "import pandas as pd\n",
    "\n",
    "def word_count(df):\n",
    "    df['Word_Count'] = df['Text'].str.split().str.len()\n",
    "    return df"
   ]
  },
  {
   "cell_type": "code",
   "execution_count": 11,
   "id": "64c2dfdf-e008-4749-b86c-1f1d53a82a2f",
   "metadata": {},
   "outputs": [
    {
     "name": "stdout",
     "output_type": "stream",
     "text": [
      "                      Text\n",
      "0      The quick brown fox\n",
      "1  jumps over the lazy dog\n",
      "                      Text  Word_Count\n",
      "0      The quick brown fox           4\n",
      "1  jumps over the lazy dog           5\n"
     ]
    }
   ],
   "source": [
    "df = pd.DataFrame({'Text': ['The quick brown fox', 'jumps over the lazy dog']})\n",
    "print(df)\n",
    "# Output:\n",
    "#                     Text\n",
    "# 0    The quick brown fox\n",
    "# 1  jumps over the lazy dog\n",
    "\n",
    "df = word_count(df)\n",
    "print(df)\n",
    "# Output:\n",
    "#                     Text  Word_Count\n",
    "# 0    The quick brown fox           4\n",
    "# 1  jumps over the lazy dog           5\n"
   ]
  },
  {
   "cell_type": "code",
   "execution_count": null,
   "id": "d8ed8b59-f279-47e7-859a-6066d2ae611e",
   "metadata": {},
   "outputs": [],
   "source": [
    "Q5. How are DataFrame.size() and DataFrame.shape() different?\n",
    "Ans. Both DataFrame.size() and DataFrame.shape() are functions in Pandas that provide information about the dimensions of a DataFrame. \n",
    "However, they provide different types of information.\n",
    "\n",
    "DataFrame.size() returns the total number of elements in the DataFrame, i.e., the number of rows multiplied by the \n",
    "number of columns. It returns a single integer value.\n",
    "\n",
    "DataFrame.shape() returns a tuple containing the number of rows and the number of columns in the DataFrame, respectively.\n",
    "It provides the shape of the DataFrame in the form of (number of rows, number of columns).\n",
    "\n",
    "In summary, DataFrame.size() provides the total number of elements in the DataFrame, while DataFrame.shape() provides\n",
    "the number of rows and columns separately as a tuple."
   ]
  },
  {
   "cell_type": "code",
   "execution_count": null,
   "id": "aaba1d3f-565d-45b6-8f5b-59fd3909f73c",
   "metadata": {},
   "outputs": [],
   "source": [
    "Q6. Which function of pandas do we use to read an excel file?\n",
    "Ans. To read an excel file, we use the read_excel() function of pandas."
   ]
  },
  {
   "cell_type": "code",
   "execution_count": null,
   "id": "a69c032b-5d31-4a1d-b5a8-2f7259157337",
   "metadata": {},
   "outputs": [],
   "source": [
    "Q7. You have a Pandas DataFrame df that contains a column named 'Email' that contains email\n",
    "addresses in the format 'username@domain.com'. Write a Python function that creates a new column\n",
    "'Username' in df that contains only the username part of each email address.\n",
    "The username is the part of the email address that appears before the '@' symbol. For example, if the\n",
    "email address is 'john.doe@example.com', the 'Username' column should contain 'john.doe'. Your\n",
    "function should extract the username from each email address and store it in the new 'Username'\n",
    "column.\n",
    "Ans. def extract_username(df):\n",
    "    df['Username'] = df['Email'].str.split('@').str[0]\n",
    "    return df\n",
    "df = extract_username(df)"
   ]
  },
  {
   "cell_type": "code",
   "execution_count": null,
   "id": "d395bd0f-8c5b-4013-bc12-e49787177167",
   "metadata": {},
   "outputs": [],
   "source": [
    "Q8. You have a Pandas DataFrame df with columns 'A', 'B', and 'C'. Write a Python function that selects\n",
    "all rows where the value in column 'A' is greater than 5 and the value in column 'B' is less than 10. The\n",
    "function should return a new DataFrame that contains only the selected rows.\n",
    "For example, if df contains the following values:\n",
    "A B C\n",
    "0 3 5 1\n",
    "1 8 2 7\n",
    "2 6 9 4\n",
    "3 2 3 5\n",
    "4 9 1 2\n",
    "Your function should select the following rows: A B C\n",
    "1 8 2 7\n",
    "4 9 1 2\n",
    "The function should return a new DataFrame that contains only the selected rows."
   ]
  },
  {
   "cell_type": "code",
   "execution_count": 17,
   "id": "311445e3-91f0-46ee-818a-cc79d33c2f79",
   "metadata": {},
   "outputs": [],
   "source": [
    "import pandas as pd\n",
    "\n",
    "def select_rows(df):\n",
    "    selected_rows = df[(df['A'] > 5) & (df['B'] < 10)]\n",
    "    return selected_rows"
   ]
  },
  {
   "cell_type": "code",
   "execution_count": 18,
   "id": "a538e925-8df7-4b9d-9425-a7b1b0a9f9da",
   "metadata": {},
   "outputs": [
    {
     "name": "stdout",
     "output_type": "stream",
     "text": [
      "   A  B  C\n",
      "1  8  2  7\n",
      "2  6  9  4\n",
      "4  9  1  2\n"
     ]
    }
   ],
   "source": [
    "df = pd.DataFrame({'A': [3, 8, 6, 2, 9], 'B': [5, 2, 9, 3, 1], 'C': [1, 7, 4, 5, 2]})\n",
    "selected_df = select_rows(df)\n",
    "print(selected_df)"
   ]
  },
  {
   "cell_type": "code",
   "execution_count": null,
   "id": "68abf3cd-3500-428a-beb0-b143ffa6fccb",
   "metadata": {},
   "outputs": [],
   "source": [
    "Q9. Given a Pandas DataFrame df with a column 'Values', write a Python function to calculate the mean,\n",
    "median, and standard deviation of the values in the 'Values' column."
   ]
  },
  {
   "cell_type": "code",
   "execution_count": 19,
   "id": "ff59d938-c1ae-4bdb-a539-e18a589df822",
   "metadata": {},
   "outputs": [],
   "source": [
    "import pandas as pd\n",
    "\n",
    "def calculate_stats(df):\n",
    "    mean = df['Values'].mean()\n",
    "    median = df['Values'].median()\n",
    "    std_dev = df['Values'].std()\n",
    "    print(\"Mean:\", mean)\n",
    "    print(\"Median:\", median)\n",
    "    print(\"Standard Deviation:\", std_dev)"
   ]
  },
  {
   "cell_type": "code",
   "execution_count": 20,
   "id": "69d97f4c-4d24-4541-b509-46330815b574",
   "metadata": {},
   "outputs": [
    {
     "name": "stdout",
     "output_type": "stream",
     "text": [
      "Mean: 30.0\n",
      "Median: 30.0\n",
      "Standard Deviation: 15.811388300841896\n"
     ]
    }
   ],
   "source": [
    "df = pd.DataFrame({'Values': [10, 20, 30, 40, 50]})\n",
    "calculate_stats(df)"
   ]
  },
  {
   "cell_type": "code",
   "execution_count": null,
   "id": "2cec064d-491b-434e-9838-edb8176c71f7",
   "metadata": {},
   "outputs": [],
   "source": [
    "Q10. Given a Pandas DataFrame df with a column 'Sales' and a column 'Date', write a Python function to\n",
    "create a new column 'MovingAverage' that contains the moving average of the sales for the past 7 days\n",
    "for each row in the DataFrame. The moving average should be calculated using a window of size 7 and\n",
    "should include the current day."
   ]
  },
  {
   "cell_type": "code",
   "execution_count": 21,
   "id": "fd3bf2de-c539-4fb7-b21e-a36559ef5b7a",
   "metadata": {},
   "outputs": [],
   "source": [
    "import pandas as pd\n",
    "\n",
    "def moving_average(df):\n",
    "    # Convert the 'Date' column to datetime\n",
    "    df['Date'] = pd.to_datetime(df['Date'])\n",
    "    # Sort the DataFrame by 'Date'\n",
    "    df = df.sort_values(by='Date')\n",
    "    # Set 'Date' as the DataFrame's index\n",
    "    df.set_index('Date', inplace=True)\n",
    "    # Calculate the moving average using a rolling window of size 7 and including the current day\n",
    "    df['MovingAverage'] = df['Sales'].rolling(window=7, min_periods=1).mean()\n",
    "    # Reset the index to move 'Date' back to a column\n",
    "    df.reset_index(inplace=True)\n",
    "    return df"
   ]
  },
  {
   "cell_type": "code",
   "execution_count": 22,
   "id": "2de356d6-5a3b-464a-9edd-a32067e44c13",
   "metadata": {},
   "outputs": [
    {
     "name": "stdout",
     "output_type": "stream",
     "text": [
      "         Date  Sales  MovingAverage\n",
      "0  2023-01-01     10           10.0\n",
      "1  2023-01-02     15           12.5\n",
      "2  2023-01-03     20           15.0\n",
      "3  2023-01-04     25           17.5\n",
      "4  2023-01-05     30           20.0\n",
      "5  2023-01-06     35           22.5\n",
      "6  2023-01-07     40           25.0\n",
      "7  2023-01-08     45           30.0\n",
      "8  2023-01-09     50           35.0\n",
      "9  2023-01-10     55           40.0\n",
      "10 2023-01-11     60           45.0\n",
      "11 2023-01-12     65           50.0\n",
      "12 2023-01-13     70           55.0\n"
     ]
    }
   ],
   "source": [
    "import pandas as pd\n",
    "\n",
    "# Create example DataFrame\n",
    "df = pd.DataFrame({\n",
    "    'Date': ['2023-01-01', '2023-01-02', '2023-01-03', '2023-01-04', '2023-01-05', '2023-01-06', '2023-01-07', '2023-01-08', '2023-01-09', '2023-01-10', '2023-01-11', '2023-01-12', '2023-01-13'],\n",
    "    'Sales': [10, 15, 20, 25, 30, 35, 40, 45, 50, 55, 60, 65, 70]\n",
    "})\n",
    "\n",
    "# Call the function and print the result\n",
    "result = moving_average(df)\n",
    "print(result)"
   ]
  },
  {
   "cell_type": "code",
   "execution_count": null,
   "id": "36a8110e-1e78-48bc-aec6-33abf48e53c4",
   "metadata": {},
   "outputs": [],
   "source": [
    "Q11. You have a Pandas DataFrame df with a column 'Date'. Write a Python function that creates a new\n",
    "column 'Weekday' in the DataFrame. The 'Weekday' column should contain the weekday name (e.g.\n",
    "Monday, Tuesday) corresponding to each date in the 'Date' column.\n",
    "For example, if df contains the following values:\n",
    "Date\n",
    "0 2023-01-01\n",
    "1 2023-01-02\n",
    "2 2023-01-03\n",
    "3 2023-01-04\n",
    "4 2023-01-05\n",
    "Your function should create the following DataFrame:\n",
    "\n",
    "Date Weekday\n",
    "0 2023-01-01 Sunday\n",
    "1 2023-01-02 Monday\n",
    "2 2023-01-03 Tuesday\n",
    "3 2023-01-04 Wednesday\n",
    "4 2023-01-05 Thursday\n",
    "The function should return the modified DataFrame."
   ]
  },
  {
   "cell_type": "code",
   "execution_count": 23,
   "id": "dc3b57db-ec28-4d22-85e6-1d009b23fb76",
   "metadata": {},
   "outputs": [],
   "source": [
    "import pandas as pd\n",
    "\n",
    "def add_weekday(df):\n",
    "    df['Weekday'] = df['Date'].dt.day_name()\n",
    "    return df"
   ]
  },
  {
   "cell_type": "code",
   "execution_count": 24,
   "id": "07a38d00-1a68-45c5-b16c-cbecc9da5427",
   "metadata": {},
   "outputs": [
    {
     "name": "stdout",
     "output_type": "stream",
     "text": [
      "        Date    Weekday\n",
      "0 2023-01-01     Sunday\n",
      "1 2023-01-02     Monday\n",
      "2 2023-01-03    Tuesday\n",
      "3 2023-01-04  Wednesday\n",
      "4 2023-01-05   Thursday\n"
     ]
    }
   ],
   "source": [
    "df = pd.DataFrame({'Date': pd.date_range('2023-01-01', periods=5)})\n",
    "df = add_weekday(df)\n",
    "print(df)"
   ]
  },
  {
   "cell_type": "code",
   "execution_count": null,
   "id": "e6a8c5b2-8020-4ca5-b07e-ce62e7a0c665",
   "metadata": {},
   "outputs": [],
   "source": [
    "Q12. Given a Pandas DataFrame df with a column 'Date' that contains timestamps, write a Python\n",
    "function to select all rows where the date is between '2023-01-01' and '2023-01-31'.\n",
    "Ans. import pandas as pd\n",
    "\n",
    "def select_date_range(df):\n",
    "    start_date = '2023-01-01'\n",
    "    end_date = '2023-01-31'\n",
    "    mask = df['Date'].between(start_date, end_date)\n",
    "    selected_rows = df[mask]\n",
    "    return selected_rows"
   ]
  },
  {
   "cell_type": "code",
   "execution_count": null,
   "id": "322fbece-fa88-4e0d-8476-a79d0a49b60f",
   "metadata": {},
   "outputs": [],
   "source": [
    "Q13. To use the basic functions of pandas, what is the first and foremost necessary library that needs to\n",
    "be imported?\n",
    "Ans. import pandas as pd"
   ]
  }
 ],
 "metadata": {
  "kernelspec": {
   "display_name": "Python 3 (ipykernel)",
   "language": "python",
   "name": "python3"
  },
  "language_info": {
   "codemirror_mode": {
    "name": "ipython",
    "version": 3
   },
   "file_extension": ".py",
   "mimetype": "text/x-python",
   "name": "python",
   "nbconvert_exporter": "python",
   "pygments_lexer": "ipython3",
   "version": "3.10.8"
  }
 },
 "nbformat": 4,
 "nbformat_minor": 5
}

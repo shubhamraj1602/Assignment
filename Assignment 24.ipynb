{
 "cells": [
  {
   "cell_type": "code",
   "execution_count": null,
   "id": "91a95bc0-9398-47fa-8ca1-f83b469512c3",
   "metadata": {},
   "outputs": [],
   "source": [
    "Consider following code to answer further questions:\n",
    "import pandas as pd\n",
    "course_name = [‘Data Science’, ‘Machine Learning’, ‘Big Data’, ‘Data Engineer’]\n",
    "duration = [2,3,6,4]\n",
    "df = pd.DataFrame(data = {‘course_name’ : course_name, ‘duration’ : duration})"
   ]
  },
  {
   "cell_type": "code",
   "execution_count": null,
   "id": "50d6d97a-bba2-4ff9-a124-b3df39cb32a0",
   "metadata": {},
   "outputs": [],
   "source": [
    "Q1. Write a code to print the data present in the second row of the dataframe, df."
   ]
  },
  {
   "cell_type": "code",
   "execution_count": 2,
   "id": "01907457-2028-440d-9849-05c1fdc1c15e",
   "metadata": {},
   "outputs": [
    {
     "name": "stdout",
     "output_type": "stream",
     "text": [
      "course_name    Machine Learning\n",
      "duration                      3\n",
      "Name: 1, dtype: object\n"
     ]
    }
   ],
   "source": [
    "import pandas as pd\n",
    "\n",
    "course_name = ['Data Science', 'Machine Learning', 'Big Data', 'Data Engineer']\n",
    "duration = [2, 3, 6, 4]\n",
    "df = pd.DataFrame(data={'course_name': course_name, 'duration': duration})\n",
    "\n",
    "# Print the data present in the second row of the dataframe\n",
    "print(df.iloc[1])"
   ]
  },
  {
   "cell_type": "code",
   "execution_count": null,
   "id": "b6b3daa0-5987-43a9-82e4-c5380a67bfa0",
   "metadata": {},
   "outputs": [],
   "source": [
    "Q2. What is the difference between the functions loc and iloc in pandas.DataFrame?\n",
    "Ans. loc and iloc are two important functions in pandas.DataFrame that are used to select data from a DataFrame.\n",
    "\n",
    "loc function is used to select rows and columns from a DataFrame based on their labels. The syntax for loc is \n",
    "df.loc[row_label, column_label], where row_label and column_label can be a single label or a list of labels. \n",
    "The labels can be either the index label or the column name. For example, df.loc[2, 'duration'] selects the value at \n",
    "the row with index label 2 and the column with name 'duration'.\n",
    "\n",
    "iloc function, on the other hand, is used to select rows and columns based on their integer indices. The syntax for\n",
    "iloc is df.iloc[row_index, column_index], where row_index and column_index can be a single integer index or a range of\n",
    "integer indices. For example, df.iloc[1, 0] selects the value at the second row and the first column.\n",
    "\n",
    "In summary, the main difference between loc and iloc is that loc selects data based on labels while iloc selects data\n",
    "based on integer indices."
   ]
  },
  {
   "cell_type": "code",
   "execution_count": null,
   "id": "c60259ff-481a-4b58-93b2-4f66197a2236",
   "metadata": {},
   "outputs": [],
   "source": [
    "Q3. Reindex the given dataframe using a variable, reindex = [3,0,1,2] and store it in the variable, new_df\n",
    "then find the output for both new_df.loc[2] and new_df.iloc[2].\n",
    "Did you observe any difference in both the outputs? If so then explain it.\n",
    "Consider the below code to answer further questions:\n",
    "import pandas as pd\n",
    "import numpy as np\n",
    "columns = ['column_1', 'column_2', 'column_3', 'column_4', 'column_5', 'column_6']\n",
    "indices = [1,2,3,4,5,6]\n",
    "#Creating a dataframe:\n",
    "df1 = pd.DataFrame(np.random.rand(6,6), columns = columns, index = indices)"
   ]
  },
  {
   "cell_type": "code",
   "execution_count": 3,
   "id": "5cd3454f-e534-4af0-8a42-1f44b9573099",
   "metadata": {},
   "outputs": [
    {
     "name": "stdout",
     "output_type": "stream",
     "text": [
      "col1     3\n",
      "col2     7\n",
      "col3    11\n",
      "Name: 2, dtype: int64\n",
      "col1     2\n",
      "col2     6\n",
      "col3    10\n",
      "Name: 1, dtype: int64\n"
     ]
    }
   ],
   "source": [
    "import pandas as pd\n",
    "\n",
    "# Create a sample dataframe\n",
    "df = pd.DataFrame({'col1': [1, 2, 3, 4], 'col2': [5, 6, 7, 8], 'col3': [9, 10, 11, 12]})\n",
    "\n",
    "# Reindex the dataframe\n",
    "reindex = [3, 0, 1, 2]\n",
    "new_df = df.reindex(reindex)\n",
    "\n",
    "# Print the row at index 2 using loc\n",
    "print(new_df.loc[2])\n",
    "\n",
    "# Print the row at index 2 using iloc\n",
    "print(new_df.iloc[2])"
   ]
  },
  {
   "cell_type": "code",
   "execution_count": null,
   "id": "6523d46f-251f-4771-a07f-9806dbcf2a10",
   "metadata": {},
   "outputs": [],
   "source": [
    "Q4. Write a code to find the following statistical measurements for the above dataframe df1:\n",
    "(i) mean of each and every column present in the dataframe.\n",
    "(ii) standard deviation of column, ‘column_2’"
   ]
  },
  {
   "cell_type": "code",
   "execution_count": null,
   "id": "05733546-a79e-4e5f-b40c-c9124933c57f",
   "metadata": {},
   "outputs": [],
   "source": [
    "import pandas as pd\n",
    "\n",
    "# Create the dataframe\n",
    "course_name = ['Data Science', 'Machine Learning', 'Big Data', 'Data Engineer']\n",
    "duration = [2, 3, 6, 4]\n",
    "df = pd.DataFrame(data = {'course_name': course_name, 'duration': duration})\n",
    "\n",
    "# Find the mean of each column\n",
    "print(\"Mean of each column:\")\n",
    "print(df.mean())\n",
    "\n",
    "# Find the standard deviation of column 'duration'\n",
    "print(\"Standard deviation of column 'duration':\")\n",
    "print(df['duration'].std())"
   ]
  },
  {
   "cell_type": "code",
   "execution_count": null,
   "id": "2ecaa1ba-b30d-48e7-a58a-09c069aef0a4",
   "metadata": {},
   "outputs": [],
   "source": [
    "Mean of each column:\n",
    "duration    3.75\n",
    "dtype: float64\n",
    "Standard deviation of column 'duration':\n",
    "1.8708286933869707"
   ]
  },
  {
   "cell_type": "code",
   "execution_count": null,
   "id": "19f6d784-1e1f-4080-a556-d982fec89670",
   "metadata": {},
   "outputs": [],
   "source": [
    "Q5. Replace the data present in the second row of column, ‘column_2’ by a string variable then find the\n",
    "mean of column, column_2.\n",
    "If you are getting errors in executing it then explain why.\n",
    "[Hint: To replace the data use df1.loc[] and equate this to string data of your choice.]\n",
    "Ans. df1.loc[2, 'column_2'] = 'new string data'"
   ]
  },
  {
   "cell_type": "code",
   "execution_count": null,
   "id": "ce697e77-0b2f-43b2-b3f8-468dd7067369",
   "metadata": {},
   "outputs": [],
   "source": [
    "Q6. What do you understand about the windows function in pandas and list the types of windows\n",
    "functions?\n",
    "Ans. In pandas, a window function is a way to perform calculations on a set of data points, called a window, that slides over a \n",
    "larger dataset. The window can be defined by the user, and the function is applied to each window in the dataset. \n",
    "Window functions are commonly used for time series analysis, but can also be used for other types of data.\n",
    "\n",
    "There are several types of window functions in pandas:\n",
    "\n",
    "Rolling window functions: These functions compute a rolling statistic over a fixed window size. For example, the rolling \n",
    "mean of a time series with a window size of 10 would compute the average of every 10 consecutive data points.\n",
    "\n",
    "Expanding window functions: These functions compute a statistic over an expanding window, starting from the beginning of\n",
    "the dataset and increasing in size with each new data point. For example, the expanding mean of a time series would compute\n",
    "the average of all data points up to that point.\n",
    "\n",
    "Exponentially-weighted moving window functions: These functions compute a rolling statistic over a fixed window size,\n",
    "with more weight given to recent data points. For example, the exponentially-weighted moving average of a time series would\n",
    "give more weight to recent data points than older ones.\n",
    "\n",
    "Rolling apply functions: These functions allow the user to apply a custom function to each rolling window. For example, the\n",
    "rolling apply function could apply a custom function that computes the standard deviation of each rolling window.\n",
    "\n",
    "Overall, window functions in pandas are powerful tools for time series analysis and can provide valuable insights into trends\n",
    "and patterns in data over time."
   ]
  },
  {
   "cell_type": "code",
   "execution_count": null,
   "id": "fac6535e-6fbd-4b0a-9c7f-88720f316505",
   "metadata": {},
   "outputs": [],
   "source": [
    "Q7. Write a code to print only the current month and year at the time of answering this question.\n",
    "[Hint: Use pandas.datetime function]"
   ]
  },
  {
   "cell_type": "code",
   "execution_count": 5,
   "id": "eb0253ca-c43c-4eb4-9548-ac1f65f9bd86",
   "metadata": {},
   "outputs": [
    {
     "name": "stdout",
     "output_type": "stream",
     "text": [
      "March 2023\n"
     ]
    }
   ],
   "source": [
    "import pandas as pd\n",
    "\n",
    "current_date = pd.Timestamp.now()\n",
    "current_month_year = current_date.strftime('%B %Y')\n",
    "\n",
    "print(current_month_year)"
   ]
  },
  {
   "cell_type": "code",
   "execution_count": null,
   "id": "dc63a4da-d72c-4e5b-80c5-4d66be17b604",
   "metadata": {},
   "outputs": [],
   "source": [
    "Q8. Write a Python program that takes in two dates as input (in the format YYYY-MM-DD) and\n",
    "calculates the difference between them in days, hours, and minutes using Pandas time delta. The\n",
    "program should prompt the user to enter the dates and display the result."
   ]
  },
  {
   "cell_type": "code",
   "execution_count": 6,
   "id": "f456ea03-5597-4ea5-96a2-05426bb46c36",
   "metadata": {},
   "outputs": [
    {
     "name": "stdin",
     "output_type": "stream",
     "text": [
      "Enter first date (YYYY-MM-DD):  2022-07-14\n",
      "Enter second date (YYYY-MM-DD):  2023-08-09\n"
     ]
    },
    {
     "name": "stdout",
     "output_type": "stream",
     "text": [
      "Time difference: 391 days, 0 hours, 0 minutes\n"
     ]
    }
   ],
   "source": [
    "import pandas as pd\n",
    "\n",
    "# Prompt user to enter the dates\n",
    "date1_str = input(\"Enter first date (YYYY-MM-DD): \")\n",
    "date2_str = input(\"Enter second date (YYYY-MM-DD): \")\n",
    "\n",
    "# Convert dates to Timestamp objects\n",
    "date1 = pd.Timestamp(date1_str)\n",
    "date2 = pd.Timestamp(date2_str)\n",
    "\n",
    "# Calculate time delta between dates\n",
    "time_delta = date2 - date1\n",
    "\n",
    "# Calculate difference in days, hours, and minutes\n",
    "days = time_delta.days\n",
    "hours = time_delta.seconds // 3600\n",
    "minutes = (time_delta.seconds % 3600) // 60\n",
    "\n",
    "# Display the result\n",
    "print(\"Time difference: {} days, {} hours, {} minutes\".format(days, hours, minutes))"
   ]
  },
  {
   "cell_type": "code",
   "execution_count": null,
   "id": "eb5e6069-a5e0-4663-bbb5-5c4438167699",
   "metadata": {},
   "outputs": [],
   "source": [
    "Q9. Write a Python program that reads a CSV file containing categorical data and converts a specified\n",
    "column to a categorical data type. The program should prompt the user to enter the file path, column\n",
    "name, and category order, and then display the sorted data."
   ]
  },
  {
   "cell_type": "code",
   "execution_count": null,
   "id": "24f47097-f812-4263-9b84-7a7dabaea49a",
   "metadata": {},
   "outputs": [],
   "source": [
    "import pandas as pd\n",
    "\n",
    "# Prompt user for file path, column name, and category order\n",
    "file_path = input(\"Enter file path: \")\n",
    "column_name = input(\"Enter column name to convert to categorical data type: \")\n",
    "category_order = input(\"Enter category order (comma-separated): \").split(\",\")\n",
    "\n",
    "# Read CSV file into DataFrame\n",
    "df = pd.read_csv(file_path)\n",
    "\n",
    "# Convert specified column to categorical data type with specified category order\n",
    "df[column_name] = pd.Categorical(df[column_name], categories=category_order, ordered=True)\n",
    "\n",
    "# Sort DataFrame by specified column\n",
    "df_sorted = df.sort_values(column_name)\n",
    "\n",
    "# Display sorted data\n",
    "print(df_sorted)"
   ]
  },
  {
   "cell_type": "code",
   "execution_count": null,
   "id": "e1806c2d-19ad-45e1-842d-568394a67e5e",
   "metadata": {},
   "outputs": [],
   "source": [
    "Q10. Write a Python program that reads a CSV file containing sales data for different products and\n",
    "visualizes the data using a stacked bar chart to show the sales of each product category over time. The\n",
    "program should prompt the user to enter the file path and display the chart."
   ]
  },
  {
   "cell_type": "code",
   "execution_count": null,
   "id": "95054384-e18d-4199-a2da-8163ef68e394",
   "metadata": {},
   "outputs": [],
   "source": [
    "import pandas as pd\n",
    "import matplotlib.pyplot as plt\n",
    "\n",
    "# Prompt the user to enter the file path\n",
    "file_path = input(\"Enter the file path of the CSV file containing the sales data: \")\n",
    "\n",
    "# Read the CSV file into a pandas dataframe\n",
    "df = pd.read_csv(file_path)\n",
    "\n",
    "# Prompt the user to enter the column name for product category\n",
    "category_column = input(\"Enter the column name for product category: \")\n",
    "\n",
    "# Convert the specified column to a categorical data type\n",
    "df[category_column] = pd.Categorical(df[category_column])\n",
    "\n",
    "# Sort the dataframe by date and product category\n",
    "df = df.sort_values(by=['Date', category_column])\n",
    "\n",
    "# Group the sales data by date and product category\n",
    "grouped_df = df.groupby(['Date', category_column]).sum().unstack()\n",
    "\n",
    "# Plot the stacked bar chart\n",
    "grouped_df.plot(kind='bar', stacked=True)\n",
    "\n",
    "# Set the chart title and axes labels\n",
    "plt.title('Sales Data by Product Category')\n",
    "plt.xlabel('Date')\n",
    "plt.ylabel('Sales')\n",
    "\n",
    "# Display the chart\n",
    "plt.show()"
   ]
  },
  {
   "cell_type": "code",
   "execution_count": null,
   "id": "7e58830d-99af-41e9-a932-8906b6f6650a",
   "metadata": {},
   "outputs": [],
   "source": [
    "Q11. You are given a CSV file containing student data that includes the student ID and their test score. Write\n",
    "a Python program that reads the CSV file, calculates the mean, median, and mode of the test scores, and\n",
    "displays the results in a table.\n",
    "The program should do the followingM\n",
    "I Prompt the user to enter the file path of the CSV file containing the student dataR\n",
    "I Read the CSV file into a Pandas DataFrameR\n",
    "I Calculate the mean, median, and mode of the test scores using Pandas toolsR\n",
    "I Display the mean, median, and mode in a table.\n",
    "Assume the CSV file contains the following columnsM\n",
    "I Student ID: The ID of the studentR\n",
    "I Test Score: The score of the student's test.\n",
    "Example usage of the program:\n",
    "Enter the file path of the CSV file containing the student data: student_data.csv\n",
    "+-----------+--------+\n",
    "| Statistic | Value |\n",
    "+-----------+--------+\n",
    "| Mean | 79.6 |\n",
    "| Median | 82 |\n",
    "| Mode | 85, 90 |\n",
    "+-----------+--------+\n",
    "Assume that the CSV file student_data.csv contains the following data:\n",
    "Student ID,Test Score\n",
    "1,85\n",
    "2,90\n",
    "3,80\n",
    "4,75\n",
    "5,85\n",
    "6,82\n",
    "7,78\n",
    "8,85\n",
    "9,90\n",
    "10,85\n",
    "The program should calculate the mean, median, and mode of the test scores and display the results\n",
    "in a table."
   ]
  },
  {
   "cell_type": "code",
   "execution_count": null,
   "id": "a260f35d-a27b-4b37-918f-71e64cf229bd",
   "metadata": {},
   "outputs": [],
   "source": [
    "import pandas as pd\n",
    "\n",
    "# Prompt the user to enter the file path of the CSV file containing the student data\n",
    "file_path = input(\"Enter the file path of the CSV file containing the student data: \")\n",
    "\n",
    "# Read the CSV file into a Pandas DataFrame\n",
    "df = pd.read_csv(file_path)\n",
    "\n",
    "# Calculate the mean, median, and mode of the test scores\n",
    "mean = df['Test Score'].mean()\n",
    "median = df['Test Score'].median()\n",
    "mode = df['Test Score'].mode()\n",
    "\n",
    "# Display the mean, median, and mode in a table\n",
    "table = pd.DataFrame({'Statistic': ['Mean', 'Median', 'Mode'], 'Value': [mean, median, mode]})\n",
    "print(table.to_string(index=False))"
   ]
  }
 ],
 "metadata": {
  "kernelspec": {
   "display_name": "Python 3 (ipykernel)",
   "language": "python",
   "name": "python3"
  },
  "language_info": {
   "codemirror_mode": {
    "name": "ipython",
    "version": 3
   },
   "file_extension": ".py",
   "mimetype": "text/x-python",
   "name": "python",
   "nbconvert_exporter": "python",
   "pygments_lexer": "ipython3",
   "version": "3.10.8"
  }
 },
 "nbformat": 4,
 "nbformat_minor": 5
}

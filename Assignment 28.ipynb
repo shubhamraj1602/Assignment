{
 "cells": [
  {
   "cell_type": "code",
   "execution_count": null,
   "id": "e4c9008f-2f63-4204-b3cd-e09d274cf8e5",
   "metadata": {},
   "outputs": [],
   "source": [
    "Q1. Load the \"titanic\" dataset using the load_dataset function of seaborn. Use Plotly express to plot a\n",
    "scatter plot for age and fare columns in the titanic dataset.\n",
    "Ans. import seaborn as sns\n",
    "import plotly.express as px\n",
    "\n",
    "titanic_df = sns.load_dataset(\"titanic\")\n",
    "\n",
    "fig = px.scatter(titanic_df, x=\"age\", y=\"fare\", title=\"Titanic Dataset Scatter Plot\")\n",
    "fig.show()"
   ]
  },
  {
   "cell_type": "code",
   "execution_count": null,
   "id": "c38a83b9-243a-48e6-a47a-36760faa3e6d",
   "metadata": {},
   "outputs": [],
   "source": [
    "Q2. Using the tips dataset in the Plotly library, plot a box plot using Plotly express.\n",
    "Ans. import plotly.express as px\n",
    "tips_df = px.data.tips()\n",
    "\n",
    "fig = px.box(tips_df, x=\"day\", y=\"total_bill\", color=\"smoker\", title=\"Box Plot of Total Bill by Day and Smoker\")\n",
    "fig.show()"
   ]
  },
  {
   "cell_type": "code",
   "execution_count": null,
   "id": "39e9156c-888a-4fba-9713-b62f249e34e1",
   "metadata": {},
   "outputs": [],
   "source": [
    "Q3. Using the tips dataset in the Plotly library, Plot a histogram for x= \"sex\" and y=\"total_bill\" column in\n",
    "the tips dataset. Also, use the \"smoker\" column with the pattern_shape parameter and the \"day\"\n",
    "column with the color parameter.\n",
    "\n",
    "Ans. import plotly.express as px\n",
    "tips_df = px.data.tips()\n",
    "\n",
    "fig = px.histogram(tips_df, x=\"sex\", y=\"total_bill\", color=\"day\", pattern_shape=\"smoker\", title=\"Histogram of Total Bill by Gender and Smoker\")\n",
    "fig.show()"
   ]
  },
  {
   "cell_type": "code",
   "execution_count": null,
   "id": "a2601708-f0e8-4918-81fd-0c2babd2306c",
   "metadata": {},
   "outputs": [],
   "source": [
    "Q4. Using the iris dataset in the Plotly library, Plot a scatter matrix plot, using the \"species\" column for\n",
    "the color parameter.\n",
    "Note: Use \"sepal_length\", \"sepal_width\", \"petal_length\", \"petal_width\" columns only with the\n",
    "dimensions parameter.\n",
    "\n",
    "Ans. import plotly.express as px\n",
    "from sklearn.datasets import load_iris\n",
    "\n",
    "iris = load_iris()\n",
    "df = pd.DataFrame(iris.data, columns=iris.feature_names)\n",
    "df['species'] = iris.target_names[iris.target]\n",
    "\n",
    "fig = px.scatter_matrix(df, dimensions=['sepal_length', 'sepal_width', 'petal_length', 'petal_width'], color='species')\n",
    "fig.show()"
   ]
  },
  {
   "cell_type": "code",
   "execution_count": null,
   "id": "73d56881-c0be-4b2c-88dd-0518675de2d4",
   "metadata": {},
   "outputs": [],
   "source": [
    "Q5. What is Distplot? Using Plotly express, plot a distplot.\n",
    "Ans. Distplot is a function in the Plotly library that is used to plot a histogram and an estimated probability\n",
    "density function of a distribution. It is a combination of a histogram and a kernel density plot.\n",
    "\n",
    "To plot a distplot using Plotly express, we can use the px.histogram() function and set the marginal parameter to \"box\". Here is an example:\n",
    "    import plotly.express as px\n",
    "import seaborn as sns\n",
    "\n",
    "# Load the tips dataset from seaborn\n",
    "tips = sns.load_dataset(\"tips\")\n",
    "\n",
    "# Plot a distplot for the \"total_bill\" column\n",
    "fig = px.histogram(tips, x=\"total_bill\", marginal=\"box\")\n",
    "fig.show()"
   ]
  }
 ],
 "metadata": {
  "kernelspec": {
   "display_name": "Python 3 (ipykernel)",
   "language": "python",
   "name": "python3"
  },
  "language_info": {
   "codemirror_mode": {
    "name": "ipython",
    "version": 3
   },
   "file_extension": ".py",
   "mimetype": "text/x-python",
   "name": "python",
   "nbconvert_exporter": "python",
   "pygments_lexer": "ipython3",
   "version": "3.10.8"
  }
 },
 "nbformat": 4,
 "nbformat_minor": 5
}

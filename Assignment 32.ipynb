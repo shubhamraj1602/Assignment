{
 "cells": [
  {
   "cell_type": "code",
   "execution_count": null,
   "id": "f77cf6c4-1859-4bd9-a7a1-e3a4607ed4ea",
   "metadata": {},
   "outputs": [],
   "source": [
    "Q1. What is the Probability density function?\n",
    "Ans. Probability density function (PDF) is a function that describes the probability distribution \n",
    "of a continuous random variable. The PDF represents the relative likelihood that the value of the random \n",
    "variable falls within a particular range of values,as opposed to taking on any specific value.\n",
    "\n",
    "The PDF is defined as the derivative of the cumulative distribution function (CDF) with respect to the variable\n",
    "of interest. The PDF is non-negative, and its integral over the entire range of the variable is equal to 1.\n",
    "\n",
    "In essence, the PDF provides a way to understand the probability distribution of continuous random variables, \n",
    "such as the height or weight of a population, or the time it takes for a particular event to occur. It is an \n",
    "essential tool in probability theory, statistics, and many areas of science and engineering."
   ]
  },
  {
   "cell_type": "code",
   "execution_count": null,
   "id": "6bca8080-6f47-4b02-b00a-9e111aff7e0c",
   "metadata": {},
   "outputs": [],
   "source": [
    "Q2. What are the types of Probability distribution?\n",
    "Ans. There are several types of probability distributions in probability theory and statistics. Here are\n",
    "some of the most commonly used types:\n",
    "\n",
    "Normal Distribution: Also known as Gaussian distribution, it is a continuous probability distribution with \n",
    "a bell-shaped curve. Many real-world phenomena follow this distribution, such as the distribution of heights or weights in a population.\n",
    "\n",
    "Binomial Distribution: This is a discrete probability distribution that describes the number of successes in \n",
    "a fixed number of independent trials with a constant probability of success. For example, the number of heads \n",
    "obtained in 10 tosses of a fair coin.\n",
    "\n",
    "Poisson Distribution: This is a discrete probability distribution that describes the number of rare events that\n",
    "occur in a fixed interval of time or space. For example, the number of cars passing through a particular point in a road in an hour.\n",
    "\n",
    "Exponential Distribution: This is a continuous probability distribution that describes the time between events\n",
    "\n",
    "that occur randomly at a constant rate. For example, the time between two consecutive phone calls to a customer service center.\n",
    "\n",
    "Gamma Distribution: This is a continuous probability distribution that generalizes the exponential distribution\n",
    "and describes the time until a specified number of events occur. It is often used in survival analysis and queuing theory.\n",
    "\n",
    "Beta Distribution: This is a continuous probability distribution that describes the probability of a binary event \n",
    "that can take on values between 0 and 1. It is often used in Bayesian inference and modeling proportions.\n",
    "\n",
    "There are many other types of probability distributions, and each has its own unique properties and applications\n",
    "in various fields of study.\n"
   ]
  },
  {
   "cell_type": "code",
   "execution_count": null,
   "id": "f77ceddd-e406-43da-8af7-4a3ca53818c7",
   "metadata": {},
   "outputs": [],
   "source": [
    "Q3. Write a Python function to calculate the probability density function of a normal distribution with\n",
    "given mean and standard deviation at a given point.\n",
    "\n",
    "import math\n",
    "\n",
    "def normal_pdf(x, mean, std_dev):\n",
    "    \"\"\"\n",
    "    Calculates the probability density function of a normal distribution with given mean and standard deviation at a given point.\n",
    "\n",
    "    Args:\n",
    "    x (float): The point at which to calculate the PDF.\n",
    "    mean (float): The mean of the normal distribution.\n",
    "    std_dev (float): The standard deviation of the normal distribution.\n",
    "\n",
    "    Returns:\n",
    "    float: The PDF of the normal distribution at the given point.\n",
    "    \"\"\"\n",
    "    coeff = 1 / (std_dev * math.sqrt(2 * math.pi))\n",
    "    exponent = -0.5 * ((x - mean) / std_dev) ** 2\n",
    "    pdf = coeff * math.exp(exponent)\n",
    "    return pdf"
   ]
  },
  {
   "cell_type": "code",
   "execution_count": null,
   "id": "34f182d8-b661-4061-82a3-c0c1b4b6ffd4",
   "metadata": {},
   "outputs": [],
   "source": [
    "Q4. What are the properties of Binomial distribution? Give two examples of events where binomial\n",
    "distribution can be applied.\n",
    "\n",
    "Ans. The Binomial distribution has several properties that are important to understand. Here are some of the key properties:\n",
    "\n",
    "The binomial distribution describes the probability of a number of \"successes\" in a fixed number of independent trials.\n",
    "Each trial has two possible outcomes, often referred to as \"success\" and \"failure\".\n",
    "The probability of success is constant across all trials.\n",
    "The trials are independent of each other.\n",
    "The binomial distribution is discrete, meaning that the number of successes can only take on integer values.\n",
    "The mean of the binomial distribution is equal to the product of the number of trials and the probability of success.\n",
    "The variance of the binomial distribution is equal to the product of the number of trials, the probability of success,\n",
    "and the probability of failure.\n",
    "Here are two examples of events where the binomial distribution can be applied:\n",
    "\n",
    "Flipping a coin: If you flip a fair coin 10 times, you can use the binomial distribution to calculate the probability\n",
    "of getting a certain number of heads. Each flip of the coin is an independent trial, and there are two possible outcomes\n",
    "(heads or tails) with a constant probability of success (0.5).\n",
    "\n",
    "Quality control inspection: Suppose a factory produces 1000 widgets, and each widget can be defective or non-defective.\n",
    "A quality control inspector randomly selects 100 widgets to inspect, and records the number of defective widgets.\n",
    "The binomial distribution can be used to calculate the probability of finding a certain number of defective widgets \n",
    "in the sample, given the known rate of defects in the overall population."
   ]
  },
  {
   "cell_type": "code",
   "execution_count": null,
   "id": "bd47eddb-85ba-4c9f-8c73-daff79308f3d",
   "metadata": {},
   "outputs": [],
   "source": [
    "Q5. Generate a random sample of size 1000 from a binomial distribution with probability of success 0.4\n",
    "and plot a histogram of the results using matplotlib."
   ]
  },
  {
   "cell_type": "code",
   "execution_count": 2,
   "id": "de25a29f-ba04-408a-b310-624326c0c7a0",
   "metadata": {},
   "outputs": [
    {
     "data": {
      "image/png": "[encoded data removed]",
      "text/plain": [
       "<Figure size 640x480 with 1 Axes>"
      ]
     },
     "metadata": {},
     "output_type": "display_data"
    }
   ],
   "source": [
    "import numpy as np\n",
    "import matplotlib.pyplot as plt\n",
    "\n",
    "# Generate a random sample of size 1000 from a binomial distribution with p=0.4\n",
    "sample = np.random.binomial(n=1, p=0.4, size=1000)\n",
    "\n",
    "# Plot a histogram of the results\n",
    "plt.hist(sample, bins=2, alpha=0.5)\n",
    "plt.title('Binomial Distribution')\n",
    "plt.xlabel('Success or Failure')\n",
    "plt.ylabel('Frequency')\n",
    "plt.show()"
   ]
  },
  {
   "cell_type": "code",
   "execution_count": null,
   "id": "c0b952dd-ebd8-4be8-9c1e-07d4f28119bc",
   "metadata": {},
   "outputs": [],
   "source": [
    "Q6. Write a Python function to calculate the cumulative distribution function of a Poisson distribution\n",
    "with given mean at a given point.\n",
    "\n",
    "import math\n",
    "\n",
    "def poisson_cdf(x, mean):\n",
    "    \"\"\"\n",
    "    Calculates the cumulative distribution function of a Poisson distribution with given mean at a given point.\n",
    "\n",
    "    Args:\n",
    "    x (int): The point at which to calculate the CDF.\n",
    "    mean (float): The mean of the Poisson distribution.\n",
    "\n",
    "    Returns:\n",
    "    float: The CDF of the Poisson distribution at the given point.\n",
    "    \"\"\"\n",
    "    cdf = 0\n",
    "    for i in range(x + 1):\n",
    "        cdf += (mean ** i / math.factorial(i)) * math.exp(-mean)\n",
    "    return cdf"
   ]
  },
  {
   "cell_type": "code",
   "execution_count": null,
   "id": "c6070705-1a11-4fc0-b384-550bc0b69d09",
   "metadata": {},
   "outputs": [],
   "source": [
    "Q7. How Binomial distribution different from Poisson distribution?\n",
    "Ans. The Binomial distribution and the Poisson distribution are both discrete probability distributions, \n",
    "but they have some key differences:\n",
    "\n",
    "Number of trials: The Binomial distribution models the number of successes in a fixed number of independent trials, \n",
    "while the Poisson distribution models the number of events occurring in a fixed interval of time or space.\n",
    "\n",
    "Probability of success: In the Binomial distribution, the probability of success is constant across all trials.\n",
    "In the Poisson distribution, the probability of an event occurring is constant across the interval of time or space,\n",
    "but the actual probability of success may vary from event to event.\n",
    "\n",
    "Assumptions: The Binomial distribution assumes that the trials are independent and the probability of success is\n",
    "constant across all trials. The Poisson distribution assumes that events occur randomly and independently of each\n",
    "other, and the rate of occurrence is constant over time or space.\n",
    "\n",
    "Parameters: The Binomial distribution has two parameters: the number of trials and the probability of success. The \n",
    "Poisson distribution has only one parameter: the rate of occurrence.\n",
    "\n",
    "Range of values: The Binomial distribution can take on values from 0 to the number of trials. The Poisson distribution\n",
    "can take on values from 0 to infinity.\n",
    "\n",
    "Here are some examples where the Binomial distribution might be used:\n",
    "\n",
    "Counting the number of people in a sample who prefer Coke over Pepsi.\n",
    "Measuring the number of defective items in a batch of products.\n",
    "Observing the number of heads in a series of coin flips.\n",
    "Here are some examples where the Poisson distribution might be used:\n",
    "\n",
    "Measuring the number of cars passing a point on a road in an hour.\n",
    "Counting the number of phone calls received by a call center in a day.\n",
    "Recording the number of lightning strikes in a given area in a year."
   ]
  },
  {
   "cell_type": "code",
   "execution_count": null,
   "id": "9eafd82e-b9c0-4515-859e-932f65b376af",
   "metadata": {},
   "outputs": [],
   "source": [
    "Q8. Generate a random sample of size 1000 from a Poisson distribution with mean 5 and calculate the\n",
    "sample mean and variance."
   ]
  },
  {
   "cell_type": "code",
   "execution_count": 3,
   "id": "acefee24-9918-446d-b25b-f119b6e21204",
   "metadata": {},
   "outputs": [
    {
     "name": "stdout",
     "output_type": "stream",
     "text": [
      "Sample mean: 4.952\n",
      "Sample variance: 4.969696\n"
     ]
    }
   ],
   "source": [
    "import numpy as np\n",
    "\n",
    "# Generate a random sample of size 1000 from a Poisson distribution with mean 5\n",
    "sample = np.random.poisson(lam=5, size=1000)\n",
    "\n",
    "# Calculate the sample mean and variance\n",
    "sample_mean = np.mean(sample)\n",
    "sample_var = np.var(sample)\n",
    "\n",
    "# Print the sample mean and variance\n",
    "print(\"Sample mean:\", sample_mean)\n",
    "print(\"Sample variance:\", sample_var)"
   ]
  },
  {
   "cell_type": "code",
   "execution_count": null,
   "id": "9ceb4566-7fdb-4abe-98a1-c8a392b2544a",
   "metadata": {},
   "outputs": [],
   "source": [
    "Q9. How mean and variance are related in Binomial distribution and Poisson distribution?\n",
    "Ans. mean = n * p\n",
    "variance = n * p * (1 - p)"
   ]
  },
  {
   "cell_type": "code",
   "execution_count": null,
   "id": "bce6b91a-0737-40d6-850a-af359942f463",
   "metadata": {},
   "outputs": [],
   "source": [
    "Q10. In normal distribution with respect to mean position, where does the least frequent data appear?\n",
    "Ans. In a normal distribution, the least frequent data appears in the tails of the distribution, \n",
    "\\which are the regions that are farthest away from the mean. Specifically, the least frequent data appears\n",
    "in the two tails of the distribution, which are the regions that lie more than 1 standard deviation away from the mean.\n",
    "This is because the normal distribution is symmetric around the mean, and the probability density gradually decreases\n",
    "as we move away from the mean in either direction. Therefore, the data that is farther away from the mean is less \n",
    "likely to occur than the data that is closer to the mean."
   ]
  }
 ],
 "metadata": {
  "kernelspec": {
   "display_name": "Python 3 (ipykernel)",
   "language": "python",
   "name": "python3"
  },
  "language_info": {
   "codemirror_mode": {
    "name": "ipython",
    "version": 3
   },
   "file_extension": ".py",
   "mimetype": "text/x-python",
   "name": "python",
   "nbconvert_exporter": "python",
   "pygments_lexer": "ipython3",
   "version": "3.10.8"
  }
 },
 "nbformat": 4,
 "nbformat_minor": 5
}

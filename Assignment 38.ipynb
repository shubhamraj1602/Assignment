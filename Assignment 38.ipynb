{
 "cells": [
  {
   "cell_type": "raw",
   "id": "41f3b9c2-ba38-4a82-973e-ca33050390b8",
   "metadata": {},
   "source": [
    "Q1. Write a Python function that takes in two arrays of data and calculates the F-value for a variance ratio\n",
    "test. The function should return the F-value and the corresponding p-value for the test.\n",
    "\n",
    "Ans. Here's a Python function that takes in two arrays of data and calculates the F-value for a variance ratio test. It uses the scipy.stats.f_oneway() function to perform the test and returns the F-value and the corresponding p-value.\n",
    "\n",
    "import scipy.stats as stats\n",
    "\n",
    "def var_ratio_test(data1, data2):\n",
    "    f_value, p_value = stats.f_oneway(data1, data2)\n",
    "    return f_value, p_value\n",
    "To use the function, simply pass in the two arrays of data as arguments. For example:\n",
    "\n",
    "data1 = [1, 2, 3, 4, 5]\n",
    "data2 = [2, 4, 6, 8, 10]\n",
    "\n",
    "f_value, p_value = var_ratio_test(data1, data2)\n",
    "\n",
    "print(\"F-value:\", f_value)\n",
    "print(\"p-value:\", p_value)\n",
    "This will output the F-value and p-value for the variance ratio test. Note that the function assumes that the data is normally distributed and has equal variances. If these assumptions are not met, the results may not be accurate."
   ]
  },
  {
   "cell_type": "code",
   "execution_count": null,
   "id": "bfc53029-e108-40a7-a693-fc60870afe61",
   "metadata": {},
   "outputs": [],
   "source": [
    "Q2. Given a significance level of 0.05 and the degrees of freedom for the numerator and denominator of an\n",
    "F-distribution, write a Python function that returns the critical F-value for a two-tailed test.\n",
    "\n",
    "Ans. Here's a Python function that takes in the degrees of freedom for the numerator (df_num) and denominator (df_denom) of an F-distribution, as well as the desired significance level (alpha), and returns the critical F-value for a two-tailed test:\n",
    "\n",
    "import scipy.stats as stats\n",
    "\n",
    "def critical_f_value(df_num, df_denom, alpha):\n",
    "    # Calculate the critical F-value for a two-tailed test\n",
    "    f_crit = stats.f.ppf(alpha / 2, df_num, df_denom)\n",
    "    \n",
    "    # Return the critical F-value\n",
    "    return f_crit\n",
    "To use the function, simply pass in the degrees of freedom for the numerator and denominator of the F-distribution, as well as\n",
    "the desired significance level (0.05 for a 95% confidence level) as arguments. For example:\n",
    "\n",
    "df_num = 3\n",
    "df_denom = 10\n",
    "alpha = 0.05\n",
    "\n",
    "f_crit = critical_f_value(df_num, df_denom, alpha)\n",
    "\n",
    "print(\"Critical F-value:\", f_crit)\n",
    "This will output the critical F-value for a two-tailed test with 3 degrees of freedom in the numerator and 10 degrees of freedom\n",
    "in the denominator at a significance level of 0.05. Note that the function assumes that the F-distribution is a standard\n",
    "F-distribution (i.e., has a mean of 1), which may not be the case for non-standard F-distributions."
   ]
  },
  {
   "cell_type": "code",
   "execution_count": null,
   "id": "50e7368a-691d-42f6-beb8-3388f10d9b26",
   "metadata": {},
   "outputs": [],
   "source": [
    "Q3. Write a Python program that generates random samples from two normal distributions with known\n",
    "variances and uses an F-test to determine if the variances are equal. The program should output the F-\n",
    "value, degrees of freedom, and p-value for the test."
   ]
  },
  {
   "cell_type": "code",
   "execution_count": 4,
   "id": "9240023b-35fb-4391-ad1f-16e68255c3d0",
   "metadata": {},
   "outputs": [
    {
     "name": "stdout",
     "output_type": "stream",
     "text": [
      "F-value: 0.9027965057431661\n",
      "Degrees of freedom: 19 and 24\n",
      "p-value: 0.41477468339115986\n"
     ]
    }
   ],
   "source": [
    "import numpy as np\n",
    "from scipy.stats import f\n",
    "\n",
    "# Set random seed for reproducibility\n",
    "np.random.seed(123)\n",
    "\n",
    "# Generate random samples from two normal distributions\n",
    "n1 = 20\n",
    "n2 = 25\n",
    "mean1 = 0\n",
    "mean2 = 0\n",
    "var1 = 5\n",
    "var2 = 8\n",
    "sample1 = np.random.normal(mean1, np.sqrt(var1), n1)\n",
    "sample2 = np.random.normal(mean2, np.sqrt(var2), n2)\n",
    "\n",
    "# Calculate the F-statistic and p-value for the F-test\n",
    "f_statistic = np.var(sample1, ddof=1) / np.var(sample2, ddof=1)\n",
    "df1 = n1 - 1\n",
    "df2 = n2 - 1\n",
    "p_value = f.cdf(f_statistic, df1, df2)\n",
    "\n",
    "# Print the F-value, degrees of freedom, and p-value\n",
    "print(\"F-value:\", f_statistic)\n",
    "print(\"Degrees of freedom:\", df1, \"and\", df2)\n",
    "print(\"p-value:\", p_value)"
   ]
  },
  {
   "cell_type": "code",
   "execution_count": null,
   "id": "53d05ba4-8338-4c44-9b9d-71cfcd4100af",
   "metadata": {},
   "outputs": [],
   "source": [
    "Q4.The variances of two populations are known to be 10 and 15. A sample of 12 observations is taken from\n",
    "each population. Conduct an F-test at the 5% significance level to determine if the variances are\n",
    "significantly different."
   ]
  },
  {
   "cell_type": "code",
   "execution_count": 5,
   "id": "3e7b4c84-a1ec-4690-8219-7552d7f974b4",
   "metadata": {},
   "outputs": [
    {
     "name": "stdout",
     "output_type": "stream",
     "text": [
      "F-value: 0.6666666666666666\n",
      "Critical F-value: 0.28787755798459863\n",
      "p-value: 1.4876102012642005\n",
      "Reject null hypothesis - variances are significantly different.\n"
     ]
    }
   ],
   "source": [
    "import numpy as np\n",
    "from scipy.stats import f\n",
    "\n",
    "# Sample variances\n",
    "s1_sq = 10\n",
    "s2_sq = 15\n",
    "\n",
    "# Sample sizes\n",
    "n1 = 12\n",
    "n2 = 12\n",
    "\n",
    "# Calculate F-value\n",
    "F = s1_sq / s2_sq\n",
    "\n",
    "# Calculate p-value\n",
    "p_value = 2 * (1 - f.cdf(F, n1 - 1, n2 - 1))\n",
    "\n",
    "# Calculate critical F-value\n",
    "critical_F = f.ppf(0.025, n1 - 1, n2 - 1)\n",
    "\n",
    "# Print results\n",
    "print(\"F-value:\", F)\n",
    "print(\"Critical F-value:\", critical_F)\n",
    "print(\"p-value:\", p_value)\n",
    "\n",
    "if F > critical_F:\n",
    "    print(\"Reject null hypothesis - variances are significantly different.\")\n",
    "else:\n",
    "    print(\"Fail to reject null hypothesis - variances are not significantly different.\")"
   ]
  },
  {
   "cell_type": "code",
   "execution_count": null,
   "id": "4d05e65c-245d-49fc-8fe4-e8a0736ded44",
   "metadata": {},
   "outputs": [],
   "source": [
    "Q5. A manufacturer claims that the variance of the diameter of a certain product is 0.005. A sample of 25\n",
    "products is taken, and the sample variance is found to be 0.006. Conduct an F-test at the 1% significance\n",
    "level to determine if the claim is justified."
   ]
  },
  {
   "cell_type": "code",
   "execution_count": 8,
   "id": "4b625e0d-06cd-499a-8ddb-0f28743b37a2",
   "metadata": {},
   "outputs": [
    {
     "name": "stdout",
     "output_type": "stream",
     "text": [
      "Fail to reject null hypothesis\n"
     ]
    }
   ],
   "source": [
    "import scipy.stats as stats\n",
    "\n",
    "n = 25\n",
    "s2 = 0.006\n",
    "sigma2 = 0.005\n",
    "alpha = 0.01\n",
    "\n",
    "# Calculate the test statistic\n",
    "F = s2 / sigma2\n",
    "\n",
    "# Calculate the critical F-value\n",
    "dfn = n - 1\n",
    "dfd = 1\n",
    "critical_F = stats.f.ppf(1 - alpha, dfn, dfd)\n",
    "\n",
    "# Compare the F-value to the critical F-value\n",
    "if F > critical_F:\n",
    "    print(\"Reject null hypothesis\")\n",
    "else:\n",
    "    print(\"Fail to reject null hypothesis\")"
   ]
  },
  {
   "cell_type": "code",
   "execution_count": null,
   "id": "5fb1768c-f726-4978-8c05-9be907e00b28",
   "metadata": {},
   "outputs": [],
   "source": [
    "Q6. Write a Python function that takes in the degrees of freedom for the numerator and denominator of an\n",
    "F-distribution and calculates the mean and variance of the distribution. The function should return the\n",
    "mean and variance as a tuple."
   ]
  },
  {
   "cell_type": "code",
   "execution_count": 9,
   "id": "35d66132-afe1-446d-a74b-3e3e449abc04",
   "metadata": {},
   "outputs": [],
   "source": [
    "from scipy.stats import f\n",
    "\n",
    "def f_distribution_stats(df_num, df_den):\n",
    "    mean = df_den / (df_den - 2)\n",
    "    variance = (2 * (df_den ** 2) * (df_num + df_den - 2)) / ((df_num * (df_den - 2) ** 2 * (df_den - 4)))\n",
    "    return mean, variance"
   ]
  },
  {
   "cell_type": "code",
   "execution_count": null,
   "id": "e4d13c2b-f1fd-487e-b466-565219e25f81",
   "metadata": {},
   "outputs": [],
   "source": [
    "Q7. A random sample of 10 measurements is taken from a normal population with unknown variance. The\n",
    "sample variance is found to be 25. Another random sample of 15 measurements is taken from another\n",
    "normal population with unknown variance, and the sample variance is found to be 20. Conduct an F-test\n",
    "at the 10% significance level to determine if the variances are significantly different."
   ]
  },
  {
   "cell_type": "code",
   "execution_count": 10,
   "id": "3c96d7f6-adbb-45e0-9162-712d4ce1c71f",
   "metadata": {},
   "outputs": [
    {
     "name": "stdout",
     "output_type": "stream",
     "text": [
      "Fail to reject the null hypothesis. The variances are not significantly different.\n",
      "F-value:  1.25\n",
      "p-value:  0.6832194382585954\n"
     ]
    }
   ],
   "source": [
    "import scipy.stats as stats\n",
    "\n",
    "# Sample variances\n",
    "s1_squared = 25\n",
    "s2_squared = 20\n",
    "\n",
    "# Sample sizes\n",
    "n1 = 10\n",
    "n2 = 15\n",
    "\n",
    "# Calculate the F-value\n",
    "F = s1_squared / s2_squared\n",
    "\n",
    "# Calculate the p-value\n",
    "p_value = 2 * min(stats.f.cdf(F, n1-1, n2-1), 1 - stats.f.cdf(F, n1-1, n2-1))\n",
    "\n",
    "# Set the significance level\n",
    "alpha = 0.1\n",
    "\n",
    "# Compare p-value with alpha\n",
    "if p_value < alpha:\n",
    "    print(\"Reject the null hypothesis. The variances are significantly different.\")\n",
    "else:\n",
    "    print(\"Fail to reject the null hypothesis. The variances are not significantly different.\")\n",
    "    \n",
    "# Print the F-value and p-value\n",
    "print(\"F-value: \", F)\n",
    "print(\"p-value: \", p_value)"
   ]
  },
  {
   "cell_type": "code",
   "execution_count": null,
   "id": "9be8eafc-7cca-422b-ac19-1dea139d5781",
   "metadata": {},
   "outputs": [],
   "source": [
    "Q8. The following data represent the waiting times in minutes at two different restaurants on a Saturday\n",
    "night: Restaurant A: 24, 25, 28, 23, 22, 20, 27; Restaurant B: 31, 33, 35, 30, 32, 36. Conduct an F-test at the 5%\n",
    "significance level to determine if the variances are significantly different."
   ]
  },
  {
   "cell_type": "code",
   "execution_count": 11,
   "id": "a89d6a14-850e-443c-ada6-25a7ccd89d15",
   "metadata": {},
   "outputs": [
    {
     "name": "stdout",
     "output_type": "stream",
     "text": [
      "Sample variance of A: 7.80952380952381\n",
      "Sample variance of B: 5.366666666666667\n"
     ]
    }
   ],
   "source": [
    "import numpy as np\n",
    "\n",
    "a = np.array([24, 25, 28, 23, 22, 20, 27])\n",
    "b = np.array([31, 33, 35, 30, 32, 36])\n",
    "\n",
    "var_a = np.var(a, ddof=1)\n",
    "var_b = np.var(b, ddof=1)\n",
    "\n",
    "print(\"Sample variance of A:\", var_a)\n",
    "print(\"Sample variance of B:\", var_b)"
   ]
  },
  {
   "cell_type": "code",
   "execution_count": 12,
   "id": "ea310347-a886-4b52-b7b4-af0019cd57d0",
   "metadata": {},
   "outputs": [
    {
     "name": "stdout",
     "output_type": "stream",
     "text": [
      "F-value: 1.4551907719609583\n",
      "Degrees of freedom (numerator, denominator): 6 5\n",
      "p-value: 0.6974815747937483\n"
     ]
    }
   ],
   "source": [
    "from scipy.stats import f\n",
    "\n",
    "f_value = var_a/var_b\n",
    "df_num = len(a) - 1\n",
    "df_denom = len(b) - 1\n",
    "p_value = f.sf(f_value, df_num, df_denom)*2\n",
    "\n",
    "print(\"F-value:\", f_value)\n",
    "print(\"Degrees of freedom (numerator, denominator):\", df_num, df_denom)\n",
    "print(\"p-value:\", p_value)"
   ]
  },
  {
   "cell_type": "code",
   "execution_count": null,
   "id": "8a14c1d3-b28d-4b00-af5b-b73ab76b7045",
   "metadata": {},
   "outputs": [],
   "source": [
    "Q9. The following data represent the test scores of two groups of students: Group A: 80, 85, 90, 92, 87, 83;\n",
    "Group B: 75, 78, 82, 79, 81, 84. Conduct an F-test at the 1% significance level to determine if the variances\n",
    "are significantly different."
   ]
  },
  {
   "cell_type": "code",
   "execution_count": 16,
   "id": "754e812a-7683-4d30-9a9e-86f1358935db",
   "metadata": {},
   "outputs": [],
   "source": [
    "import numpy as np\n",
    "\n",
    "a = np.array([80, 85, 90, 92, 87, 83])\n",
    "b = np.array([75, 78, 82, 79, 81, 84])\n",
    "var_a = np.var(a, ddof=1)\n",
    "var_b = np.var(b, ddof=1)"
   ]
  },
  {
   "cell_type": "code",
   "execution_count": 17,
   "id": "b0d17153-dc84-47ce-9702-bab91ed3aa5d",
   "metadata": {},
   "outputs": [
    {
     "name": "stdout",
     "output_type": "stream",
     "text": [
      "F-value: 1.9442622950819677\n",
      "Degrees of freedom (numerator, denominator): 5 5\n",
      "p-value: 0.4831043549070688\n"
     ]
    }
   ],
   "source": [
    "from scipy.stats import f\n",
    "\n",
    "f_value = var_a/var_b\n",
    "df_num = len(a) - 1\n",
    "df_denom = len(b) - 1\n",
    "p_value = f.sf(f_value, df_num, df_denom)*2\n",
    "\n",
    "print(\"F-value:\", f_value)\n",
    "print(\"Degrees of freedom (numerator, denominator):\", df_num, df_denom)\n",
    "print(\"p-value:\", p_value)"
   ]
  }
 ],
 "metadata": {
  "kernelspec": {
   "display_name": "Python 3 (ipykernel)",
   "language": "python",
   "name": "python3"
  },
  "language_info": {
   "codemirror_mode": {
    "name": "ipython",
    "version": 3
   },
   "file_extension": ".py",
   "mimetype": "text/x-python",
   "name": "python",
   "nbconvert_exporter": "python",
   "pygments_lexer": "ipython3",
   "version": "3.10.8"
  }
 },
 "nbformat": 4,
 "nbformat_minor": 5
}

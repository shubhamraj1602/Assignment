{
 "cells": [
  {
   "cell_type": "code",
   "execution_count": null,
   "id": "684cc8dc-c4a1-4865-8695-36e6ebe66bb8",
   "metadata": {},
   "outputs": [],
   "source": [
    "Q1. What is the difference between Ordinal Encoding and Label Encoding? Provide an example of when you\n",
    "might choose one over the other.\n",
    "\n",
    "Ans. Ordinal encoding and label encoding are both techniques used to encode categorical data into numerical\n",
    "data, but they differ in the way they assign numerical values to categories.\n",
    "\n",
    "Ordinal encoding assigns a numerical value to each category based on their order or rank. For example, if we have a \n",
    "categorical feature \"size\" with categories \"small\", \"medium\", and \"large\", we can assign the values 1, 2, and 3 respectively \n",
    "based on their order.\n",
    "\n",
    "Label encoding, on the other hand, assigns a unique numerical value to each category without considering any order or rank. \n",
    "\n",
    "One might choose ordinal encoding over label encoding when the categorical feature has an inherent order or rank, such as size \n",
    "or level of education. On the other hand, label encoding may be preferred when the categories are unordered, such as colors or \n",
    "types of fruits.\n",
    "\n",
    "It is important to note that both encoding techniques may not be suitable for all types of machine learning algorithms,\n",
    "and it is important to consider the specific requirements of the algorithm and the nature of the data before deciding on \n",
    "an encoding technique."
   ]
  },
  {
   "cell_type": "code",
   "execution_count": null,
   "id": "c5b93ec8-73c6-427f-8465-e20dcc36f5e1",
   "metadata": {},
   "outputs": [],
   "source": [
    "Q2. Explain how Target Guided Ordinal Encoding works and provide an example of when you might use it in\n",
    "a machine learning project.\n",
    "\n",
    "Ans. Target guided ordinal encoding is a technique used to encode categorical data into numerical data based \n",
    "on the target variable. In this technique, we replace each category with a value that represents the likelihood of \n",
    "the target variable given that category.\n",
    "\n",
    "The steps involved in target guided ordinal encoding are:\n",
    "\n",
    "Group the data by each category of the categorical feature.\n",
    "Calculate the mean or median value of the target variable for each category.\n",
    "Sort the categories in ascending or descending order based on the mean or median value of the target variable.\n",
    "Assign a numerical value to each category based on its position in the sorted list.\n",
    "For example, let's say we have a dataset with a categorical feature \"city\" with categories \"New York\", \"Los Angeles\",\n",
    "\"Chicago\", and \"Houston\", and a binary target variable \"churn\" (0 or 1) indicating whether a customer has churned or not. \n",
    "We can perform target guided ordinal encoding as follows:\n",
    "\n",
    "Calculate the mean or median churn rate for each city.\n",
    "Sort the cities in ascending order of churn rate.\n",
    "Assign a numerical value to each city based on its position in the sorted list.\n",
    "Suppose the churn rates for each city are as follows:\n",
    "\n",
    "New York: 0.25\n",
    "Los Angeles: 0.35\n",
    "Chicago: 0.40\n",
    "Houston: 0.45\n",
    "We can sort the cities in ascending order of churn rate: New York, Los Angeles, Chicago, Houston. Then, we can assign a\n",
    "numerical value to each city based on its position in the sorted list: New York = 1, Los Angeles = 2, Chicago = 3, and Houston = 4.\n",
    "\n",
    "Target guided ordinal encoding may be useful in a machine learning project when the categorical feature has a strong \n",
    "relationship with the target variable, and we want to capture that relationship in the encoding. It may be particularly \n",
    "useful when the dataset is imbalanced, and we want to ensure that the encoding captures the relationship between the categorical feature and the target variable.\n",
    "\n",
    "\n",
    "\n",
    "\n"
   ]
  },
  {
   "cell_type": "code",
   "execution_count": null,
   "id": "dd0bd4f4-dc54-4dad-bf83-7ca04ff0b7e5",
   "metadata": {},
   "outputs": [],
   "source": [
    "Q3. Define covariance and explain why it is important in statistical analysis. How is covariance calculated?\n",
    "Ans. Covariance is a statistical measure that describes how two variables are related to each other. It measures \n",
    "the degree to which changes in one variable are associated with changes in another variable.\n",
    "\n",
    "In other words, covariance is a measure of the joint variability of two random variables. If two variables have a\n",
    "positive covariance, it means that they tend to vary together in the same direction. If they have a negative covariance, \n",
    "it means that they tend to vary in opposite directions. If they have a covariance of zero, it means that they are not related.\n",
    "\n",
    "Covariance is important in statistical analysis because it provides information about the relationship between variables. \n",
    "It is used to determine whether two variables are positively or negatively related, and to what degree. It is also used in \n",
    "linear regression analysis to determine the strength and direction of the relationship between the independent and dependent variables.\n",
    "\n",
    "Covariance is calculated using the following formula:\n",
    "\n",
    "cov(X,Y) = E[(X - E[X])(Y - E[Y])]\n",
    "\n",
    "where X and Y are random variables, E[X] and E[Y] are their expected values, and cov(X,Y) is the covariance between X and Y.\n",
    "\n",
    "In practice, the covariance between two variables is often estimated from a sample of data using the following formula:\n",
    "\n",
    "cov(X,Y) = (1/n) * ∑(xi - mean(X))(yi - mean(Y))\n",
    "\n",
    "where xi and yi are the values of X and Y for the ith observation, and n is the number of observations.\n",
    "\n",
    "It is important to note that covariance alone does not provide information about the strength of the relationship between variables. \n",
    "To determine the strength of the relationship, we need to normalize the covariance by dividing it by the standard deviations of the\n",
    "two variables. This normalized measure is called the correlation coefficient."
   ]
  },
  {
   "cell_type": "code",
   "execution_count": null,
   "id": "ec88a531-0a4c-4337-98f4-7c524387581b",
   "metadata": {},
   "outputs": [],
   "source": [
    "Q4. For a dataset with the following categorical variables: Color (red, green, blue), Size (small, medium,\n",
    "large), and Material (wood, metal, plastic), perform label encoding using Python's scikit-learn library.\n",
    "Show your code and explain the output."
   ]
  },
  {
   "cell_type": "code",
   "execution_count": 1,
   "id": "14fb8e1c-2c3e-4d56-be6e-889d316f0ebd",
   "metadata": {},
   "outputs": [
    {
     "name": "stdout",
     "output_type": "stream",
     "text": [
      "   Color    Size Material  Color_encoded  Size_encoded  Material_encoded\n",
      "0    red   small     wood              2             2                 2\n",
      "1  green  medium    metal              1             1                 0\n",
      "2   blue   large  plastic              0             0                 1\n",
      "3   blue  medium    metal              0             1                 0\n",
      "4    red   small     wood              2             2                 2\n",
      "5  green  medium  plastic              1             1                 1\n"
     ]
    }
   ],
   "source": [
    "from sklearn.preprocessing import LabelEncoder\n",
    "import pandas as pd\n",
    "\n",
    "# create sample dataset\n",
    "data = {'Color': ['red', 'green', 'blue', 'blue', 'red', 'green'],\n",
    "        'Size': ['small', 'medium', 'large', 'medium', 'small', 'medium'],\n",
    "        'Material': ['wood', 'metal', 'plastic', 'metal', 'wood', 'plastic']}\n",
    "\n",
    "df = pd.DataFrame(data)\n",
    "\n",
    "# create instance of LabelEncoder class\n",
    "le = LabelEncoder()\n",
    "\n",
    "# label encode categorical variables\n",
    "df['Color_encoded'] = le.fit_transform(df['Color'])\n",
    "df['Size_encoded'] = le.fit_transform(df['Size'])\n",
    "df['Material_encoded'] = le.fit_transform(df['Material'])\n",
    "\n",
    "print(df)"
   ]
  },
  {
   "cell_type": "code",
   "execution_count": null,
   "id": "1ab00083-704f-40a6-bc0f-bec854fd2a5d",
   "metadata": {},
   "outputs": [],
   "source": [
    "Q5. Calculate the covariance matrix for the following variables in a dataset: Age, Income, and Education\n",
    "level. Interpret the results."
   ]
  },
  {
   "cell_type": "code",
   "execution_count": 2,
   "id": "cf986b52-3292-4787-96c2-ceae7393fc3d",
   "metadata": {},
   "outputs": [
    {
     "name": "stdout",
     "output_type": "stream",
     "text": [
      "[[3.25e+01 6.05e+04 1.20e+01]\n",
      " [6.05e+04 1.42e+08 2.85e+04]\n",
      " [1.20e+01 2.85e+04 5.80e+00]]\n"
     ]
    }
   ],
   "source": [
    "import numpy as np\n",
    "\n",
    "# create sample dataset\n",
    "data = np.array([[35, 50000, 16], \n",
    "                 [42, 62000, 18], \n",
    "                 [28, 40000, 14], \n",
    "                 [39, 70000, 20], \n",
    "                 [31, 48000, 15]])\n",
    "\n",
    "# calculate covariance matrix\n",
    "cov_matrix = np.cov(data, rowvar=False)\n",
    "\n",
    "print(cov_matrix)"
   ]
  },
  {
   "cell_type": "code",
   "execution_count": null,
   "id": "cac72c20-d9dd-4972-bd58-1065f8ba0ba2",
   "metadata": {},
   "outputs": [],
   "source": [
    "Q6. You are working on a machine learning project with a dataset containing several categorical\n",
    "variables, including \"Gender\" (Male/Female), \"Education Level\" (High School/Bachelor's/Master's/PhD),\n",
    "and \"Employment Status\" (Unemployed/Part-Time/Full-Time). Which encoding method would you use for\n",
    "each variable, and why?\n",
    "\n",
    "Ans. For the given categorical variables, here are the encoding methods that can be used:\n",
    "\n",
    "Gender: Binary Encoding\n",
    "We can use binary encoding since there are only two categories in the variable - Male and Female. Binary encoding will\n",
    "create a single new feature that captures the information of gender in a binary format (e.g., 0 for Male and 1 for Female). \n",
    "This encoding method is preferable over label encoding because label encoding may introduce an unintended ordinal relationship \n",
    "between the categories (e.g., 0 for Male and 1 for Female may imply that Female is higher or better than Male, which is not true\n",
    "in this case).\n",
    "\n",
    "Education Level: Ordinal Encoding\n",
    "We can use ordinal encoding because there is an inherent order among the categories - High School < Bachelor's < Master's < PhD. \n",
    "Ordinal encoding will assign a unique integer value to each category based on their order, which will preserve the ordinal\n",
    "relationship between the categories. This encoding method is preferable over label encoding because label encoding may\n",
    "introduce an unintended categorical relationship between the categories (e.g., assigning arbitrary integer values to the \n",
    "categories without considering their order).\n",
    "\n",
    "Employment Status: One-Hot Encoding\n",
    "We can use one-hot encoding because there is no inherent order or relationship among the categories - Unemployed,\n",
    "Part-Time, and Full-Time are equally distinct and independent. One-hot encoding will create a new binary feature \n",
    "for each category, where the value of the feature is 1 if the category is present and 0 otherwise. This encoding method\n",
    "is preferable over label encoding and ordinal encoding because it avoids introducing unintended relationships between the \n",
    "categories and ensures that each category is treated independently."
   ]
  },
  {
   "cell_type": "code",
   "execution_count": null,
   "id": "7262444b-8511-4bdb-9045-afd5f313718c",
   "metadata": {},
   "outputs": [],
   "source": [
    "Q7. You are analyzing a dataset with two continuous variables, \"Temperature\" and \"Humidity\", and two\n",
    "categorical variables, \"Weather Condition\" (Sunny/Cloudy/Rainy) and \"Wind Direction\" (North/South/\n",
    "East/West). Calculate the covariance between each pair of variables and interpret the results."
   ]
  },
  {
   "cell_type": "code",
   "execution_count": 3,
   "id": "690eb4ef-a6db-4749-9064-3f7bd7002c7e",
   "metadata": {},
   "outputs": [
    {
     "name": "stdout",
     "output_type": "stream",
     "text": [
      "[[ 7.3 12.5  0.6  0.7]\n",
      " [12.5 62.5  5.   7.5]\n",
      " [ 0.6  5.   0.7  0.9]\n",
      " [ 0.7  7.5  0.9  1.3]]\n"
     ]
    }
   ],
   "source": [
    "import numpy as np\n",
    "\n",
    "# Sample data for illustration purposes\n",
    "temperature = [25, 22, 27, 20, 23]\n",
    "humidity = [60, 65, 70, 55, 50]\n",
    "weather_condition = [0, 1, 2, 1, 0]  # 0: Sunny, 1: Cloudy, 2: Rainy\n",
    "wind_direction = [1, 2, 3, 2, 0]  # 0: North, 1: South, 2: East, 3: West\n",
    "\n",
    "# Combine the four variables into a single matrix\n",
    "data = np.array([temperature, humidity, weather_condition, wind_direction])\n",
    "\n",
    "# Calculate the covariance matrix\n",
    "covariance_matrix = np.cov(data)\n",
    "print(covariance_matrix)"
   ]
  },
  {
   "cell_type": "code",
   "execution_count": null,
   "id": "a4cb1170-2da7-4d10-ab54-eb6d1f1063d0",
   "metadata": {},
   "outputs": [],
   "source": []
  }
 ],
 "metadata": {
  "kernelspec": {
   "display_name": "Python 3 (ipykernel)",
   "language": "python",
   "name": "python3"
  },
  "language_info": {
   "codemirror_mode": {
    "name": "ipython",
    "version": 3
   },
   "file_extension": ".py",
   "mimetype": "text/x-python",
   "name": "python",
   "nbconvert_exporter": "python",
   "pygments_lexer": "ipython3",
   "version": "3.10.8"
  }
 },
 "nbformat": 4,
 "nbformat_minor": 5
}

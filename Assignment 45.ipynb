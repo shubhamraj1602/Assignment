{
 "cells": [
  {
   "cell_type": "code",
   "execution_count": null,
   "id": "9dce7834-5c1a-485c-bd2d-914baa565911",
   "metadata": {},
   "outputs": [],
   "source": [
    "Q1. Pearson correlation coefficient is a measure of the linear relationship between two variables. Suppose\n",
    "you have collected data on the amount of time students spend studying for an exam and their final exam\n",
    "scores. Calculate the Pearson correlation coefficient between these two variables and interpret the result.\n",
    "\n",
    "Ans. To calculate the Pearson correlation coefficient, we need to have pairs of observations for both variables.\n",
    "Assuming we have collected data on the amount of time students spend studying for an exam (X) and their final exam scores\n",
    "(Y) for n students, we can calculate the Pearson correlation coefficient as follows:\n",
    "\n",
    "Calculate the mean of X and Y:\n",
    "\n",
    "$ \\bar{X} = \\frac{1}{n} \\sum_{i=1}^n X_i $\n",
    "\n",
    "$ \\bar{Y} = \\frac{1}{n} \\sum_{i=1}^n Y_i $\n",
    "\n",
    "Calculate the standard deviation of X and Y:\n",
    "\n",
    "$ S_X = \\sqrt{\\frac{1}{n-1} \\sum_{i=1}^n (X_i - \\bar{X})^2} $\n",
    "\n",
    "$ S_Y = \\sqrt{\\frac{1}{n-1} \\sum_{i=1}^n (Y_i - \\bar{Y})^2} $\n",
    "\n",
    "Calculate the covariance between X and Y:\n",
    "\n",
    "$ Cov(X,Y) = \\frac{1}{n-1} \\sum_{i=1}^n (X_i - \\bar{X}) (Y_i - \\bar{Y}) $\n",
    "\n",
    "Calculate the Pearson correlation coefficient:\n",
    "\n",
    "$ r = \\frac{Cov(X,Y)}{S_X S_Y} $\n",
    "\n",
    "The Pearson correlation coefficient (r) ranges from -1 to 1, where 1 indicates a perfect positive linear relationship, \n",
    "0 indicates no linear relationship, and -1 indicates a perfect negative linear relationship. A value of r close to 0 indicates\n",
    "that there is no linear relationship between the two variables.\n",
    "\n",
    "For example, if we calculate the Pearson correlation coefficient between the amount of time students spend studying for \n",
    "an exam and their final exam scores and obtain a value of 0.7, we can interpret this as a strong positive linear relationship\n",
    "between the two variables. This means that as the amount of time students spend studying increases, their final exam scores\n",
    "tend to increase as well."
   ]
  },
  {
   "cell_type": "code",
   "execution_count": null,
   "id": "d7b8adfa-211b-4bd6-b99c-03848e2dde64",
   "metadata": {},
   "outputs": [],
   "source": [
    "Q2. Spearman's rank correlation is a measure of the monotonic relationship between two variables.\n",
    "Suppose you have collected data on the amount of sleep individuals get each night and their overall job\n",
    "satisfaction level on a scale of 1 to 10. Calculate the Spearman's rank correlation between these two\n",
    "variables and interpret the result.\n",
    "\n",
    "Ans. To calculate the Spearman's rank correlation coefficient between the amount of sleep individuals get\n",
    "each night and their overall job satisfaction level, we need to rank both variables and then calculate the Pearson \n",
    "correlation coefficient on the ranked data. Here's how we can do it:\n",
    "\n",
    "Rank the amount of sleep and the job satisfaction level separately, from lowest to highest.\n",
    "Calculate the difference between the ranks for each individual.\n",
    "Square the difference for each individual and sum the values.\n",
    "Use the formula for Spearman's rank correlation coefficient:\n",
    "rho = 1 - (6 * sum of squared differences) / (n * (n^2 - 1))\n",
    "\n",
    "where n is the number of data points.\n",
    "\n",
    "Here's an example calculation using a sample dataset:\n",
    "\n",
    "Amount of Sleep\tJob Satisfaction\n",
    "7\t5\n",
    "6\t2\n",
    "8\t7\n",
    "7\t6\n",
    "5\t3\n",
    "6\t4\n",
    "Ranking the amount of sleep:\n",
    "\n",
    "Amount of Sleep\tRank\n",
    "5\t1\n",
    "6\t2.5\n",
    "7\t4\n",
    "8\t5\n",
    "Ranking the job satisfaction level:\n",
    "\n",
    "Job Satisfaction\tRank\n",
    "2\t1\n",
    "3\t2\n",
    "4\t3\n",
    "5\t4.5\n",
    "6\t6\n",
    "7\t7\n",
    "Calculating the difference between the ranks:\n",
    "\n",
    "Amount of Sleep\tRank\tJob Satisfaction\tRank\tDifference\n",
    "7\t4\t5\t4.5\t0.5\n",
    "6\t2.5\t2\t1\t1.5\n",
    "8\t5\t7\t7\t0\n",
    "7\t4\t6\t6\t0\n",
    "5\t1\t3\t2\t1\n",
    "6\t2.5\t4\t3\t0.5\n",
    "Summing the squared differences:\n",
    "\n",
    "1^2 + 1.5^2 + 0^2 + 0^2 + 1^2 + 0.5^2 = 4.5\n",
    "\n",
    "Using the formula for Spearman's rank correlation coefficient:\n",
    "\n",
    "rho = 1 - (6 * sum of squared differences) / (n * (n^2 - 1))\n",
    "= 1 - (6 * 4.5) / (6 * 35)\n",
    "= 0.46\n",
    "\n",
    "Interpreting the result: The Spearman's rank correlation coefficient between the amount of sleep individuals \n",
    "get each night and their overall job satisfaction level is 0.46, which indicates a moderate positive monotonic\n",
    "relationship between the two variables. This means that as the amount of sleep increases, the overall job satisfaction\n",
    "level tends to increase as well, and vice versa."
   ]
  },
  {
   "cell_type": "code",
   "execution_count": null,
   "id": "8c06bb6b-2d86-405a-a54a-d148cd158ec7",
   "metadata": {},
   "outputs": [],
   "source": [
    "Q3. Suppose you are conducting a study to examine the relationship between the number of hours of\n",
    "exercise per week and body mass index (BMI) in a sample of adults. You collected data on both variables\n",
    "for 50 participants. Calculate the Pearson correlation coefficient and the Spearman's rank correlation\n",
    "between these two variables and compare the results."
   ]
  },
  {
   "cell_type": "code",
   "execution_count": 1,
   "id": "5fc99a31-a226-4787-86e8-c75f72524c29",
   "metadata": {},
   "outputs": [
    {
     "name": "stdout",
     "output_type": "stream",
     "text": [
      "Pearson correlation coefficient: -0.42344699237406\n",
      "p-value: 0.0019606070692678845\n",
      "Spearman's rank correlation coefficient: -0.40818114798909094\n",
      "p-value: 0.0029449608559565564\n"
     ]
    }
   ],
   "source": [
    "import numpy as np\n",
    "from scipy.stats import pearsonr, spearmanr\n",
    "\n",
    "# example data\n",
    "hours_exercise = [4, 6, 2, 3, 5, 2, 1, 3, 7, 5, 6, 4, 2, 3, 4, 5, 2, 1, 6, 7, 3, 4, 5, 6, 7, 2, 3, 4, 1, 6, 5, 4, 3, 2, 1, 7, 5, 6, 4, 2, 3, 5, 6, 7, 1, 3, 5, 2, 4, 6, 5]\n",
    "bmi = [22.5, 26.2, 28.1, 29.3, 24.9, 31.2, 33.5, 27.6, 23.8, 25.7, 27.9, 30.1, 26.5, 28.2, 29.8, 24.6, 31.5, 33.7, 27.1, 23.4, 25.9, 27.3, 29.4, 24.7, 31.3, 33.9, 26.7, 28.3, 29.1, 24.2, 31.1, 34.0, 27.5, 23.6, 25.5, 27.8, 29.5, 24.8, 31.4, 33.2, 27.2, 23.9, 25.8, 27.4, 29.0, 24.4, 31.6, 33.4, 27.7, 23.2, 25.6]\n",
    "\n",
    "# Pearson correlation coefficient\n",
    "corr_coef, p_value = pearsonr(hours_exercise, bmi)\n",
    "print(\"Pearson correlation coefficient:\", corr_coef)\n",
    "print(\"p-value:\", p_value)\n",
    "\n",
    "# Spearman's rank correlation coefficient\n",
    "spearman_coef, p_value = spearmanr(hours_exercise, bmi)\n",
    "print(\"Spearman's rank correlation coefficient:\", spearman_coef)\n",
    "print(\"p-value:\", p_value)"
   ]
  },
  {
   "cell_type": "code",
   "execution_count": null,
   "id": "66a6ea41-68d7-423f-a723-67c5d1c4f139",
   "metadata": {},
   "outputs": [],
   "source": [
    "Q4. A researcher is interested in examining the relationship between the number of hours individuals\n",
    "spend watching television per day and their level of physical activity. The researcher collected data on\n",
    "both variables from a sample of 50 participants. Calculate the Pearson correlation coefficient between\n",
    "these two variables.\n",
    "\n",
    "Ans. x = [3, 2, 4, 1, 5, 6, 7, 4, 2, 3, 5, 1, 2, 6, 7, 5, 4, 3, 2, 1, 2, 3, 4, 5, 6, 7, 1, 2, 3, 4, 5, 6, 7, 1,\n",
    "          2, 3, 4, 5, 6, 7, 1, 2, 3, 4, 5, 6, 7, 2, 4, 6, 1, 3]\n",
    "\n",
    "y = [4, 5, 3, 6, 2, 1, 1, 2, 5, 4, 2, 6, 5, 1, 1, 2, 3, 4, 5, 6, 3, 2, 1, 5, 4, 3, 6, 5, 4, 3, 2, 1, 7, 6,\n",
    "     5, 4, 3, 2, 1, 7, 6, 5, 4, 3, 2, 7, 6, 5, 4, 3, 2, 7, 4, 1, 5, 6]\n",
    "\n",
    "corr, p_value = pearsonr(x, y)\n",
    "print(\"Pearson correlation coefficient:\", corr)"
   ]
  },
  {
   "cell_type": "code",
   "execution_count": null,
   "id": "af9ea6f7-9ccd-4874-9ae4-dc6984cf55db",
   "metadata": {},
   "outputs": [],
   "source": [
    "Q5. A survey was conducted to examine the relationship between age and preference for a particular\n",
    "brand of soft drink. The survey results are shown below:\n",
    "    \n",
    "Age(Years) Soft Drink Prefernces\n",
    "25             Coke\n",
    "42             Pepsi\n",
    "37             Mountain dew\n",
    "19             Coke\n",
    "31             Pepsi\n",
    "28             Coke"
   ]
  },
  {
   "cell_type": "code",
   "execution_count": 3,
   "id": "3e59d8e4-a7b9-409d-b718-16a4c781c687",
   "metadata": {},
   "outputs": [
    {
     "name": "stdout",
     "output_type": "stream",
     "text": [
      "Correlation between age and soft drink preferences: 0.7587035441865058\n"
     ]
    }
   ],
   "source": [
    "import numpy as np\n",
    "\n",
    "age = [25, 42, 37, 19, 31, 28]\n",
    "preferences = [0, 1, 2, 0, 1, 0]\n",
    "\n",
    "correlation = np.corrcoef(age, preferences)[0, 1]\n",
    "print(\"Correlation between age and soft drink preferences:\", correlation)"
   ]
  },
  {
   "cell_type": "code",
   "execution_count": null,
   "id": "4ff0a0d8-84a5-4728-8ea3-b5e7248937cf",
   "metadata": {},
   "outputs": [],
   "source": [
    "Q6. A company is interested in examining the relationship between the number of sales calls made per day\n",
    "and the number of sales made per week. The company collected data on both variables from a sample of\n",
    "30 sales representatives. Calculate the Pearson correlation coefficient between these two variables.\n",
    "\n",
    "Ans. from scipy.stats import pearsonr\n",
    "\n",
    "corr_coef, p_value = pearsonr(sales_calls, sales_made)\n",
    "print(\"Pearson correlation coefficient:\", corr_coef)"
   ]
  }
 ],
 "metadata": {
  "kernelspec": {
   "display_name": "Python 3 (ipykernel)",
   "language": "python",
   "name": "python3"
  },
  "language_info": {
   "codemirror_mode": {
    "name": "ipython",
    "version": 3
   },
   "file_extension": ".py",
   "mimetype": "text/x-python",
   "name": "python",
   "nbconvert_exporter": "python",
   "pygments_lexer": "ipython3",
   "version": "3.10.8"
  }
 },
 "nbformat": 4,
 "nbformat_minor": 5
}

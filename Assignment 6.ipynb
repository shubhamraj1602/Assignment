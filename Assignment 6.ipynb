{
 "cells": [
  {
   "cell_type": "code",
   "execution_count": 1,
   "id": "81bd2192-47d2-4cd7-8003-003e75a49f04",
   "metadata": {},
   "outputs": [
    {
     "name": "stdin",
     "output_type": "stream",
     "text": [
      "enter your marks 90\n"
     ]
    },
    {
     "name": "stdout",
     "output_type": "stream",
     "text": [
      "Your Grade is B\n"
     ]
    }
   ],
   "source": [
    "marks = int(input(\"enter your marks\"))\n",
    "if marks >90:\n",
    "    print (\"Your Grade is A\")\n",
    "elif marks >80 and marks <=90 :\n",
    "    print(\"Your Grade is B\")\n",
    "elif marks >=60 and marks <=80 :\n",
    "    print(\"Your Grade is C\")\n",
    "else :\n",
    "    print(\"Your Grade is D\")"
   ]
  },
  {
   "cell_type": "code",
   "execution_count": 2,
   "id": "1c3c2aae-6d95-44a5-9c0b-260aaff5de10",
   "metadata": {},
   "outputs": [
    {
     "name": "stdin",
     "output_type": "stream",
     "text": [
      "enter the price of bike  9999\n"
     ]
    },
    {
     "name": "stdout",
     "output_type": "stream",
     "text": [
      "Your road tax is 5%\n"
     ]
    }
   ],
   "source": [
    "price = int(input(\"enter the price of bike \"))\n",
    "if price >100000 :\n",
    "    print (\"Your road tax is 15%\")\n",
    "elif price >50000 and price <100000 :\n",
    "    print(\"Your road tax is 10%\")\n",
    "else :\n",
    "    print(\"Your road tax is 5%\")"
   ]
  },
  {
   "cell_type": "code",
   "execution_count": 4,
   "id": "1b830b44-fd9b-459a-8fb5-17c1a29ee0ea",
   "metadata": {},
   "outputs": [
    {
     "name": "stdin",
     "output_type": "stream",
     "text": [
      "enter your city Delhi\n"
     ]
    },
    {
     "name": "stdout",
     "output_type": "stream",
     "text": [
      "Monument of your city is Red Fort\n"
     ]
    }
   ],
   "source": [
    "city = input(\"enter your city\")\n",
    "if city == \"Delhi\" :\n",
    "    print(\"Monument of your city is Red Fort\")\n",
    "if city == \"Agra\" :\n",
    "    print(\"Monument of your city is Tajmahal\")\n",
    "if city == \"Jaipur\":\n",
    "    print(\"Monument of your city is Jal Mahal\")"
   ]
  },
  {
   "cell_type": "code",
   "execution_count": 3,
   "id": "415b2e2a-11dd-47fa-8a6c-1d967420b5c3",
   "metadata": {},
   "outputs": [
    {
     "name": "stdin",
     "output_type": "stream",
     "text": [
      "Enter the numbers 1\n"
     ]
    },
    {
     "name": "stdout",
     "output_type": "stream",
     "text": [
      "0\n"
     ]
    }
   ],
   "source": [
    " num = int(input(\"Enter the numbers\"))\n",
    "count = 0\n",
    "while num > 10:\n",
    "    num = num / 3\n",
    "    count += 1\n",
    "print(count)"
   ]
  },
  {
   "cell_type": "code",
   "execution_count": null,
   "id": "b5ecfd63-d587-40b4-b493-cd17ebe62653",
   "metadata": {},
   "outputs": [],
   "source": [
    "Python while loop is used to run a block code until a certain condition is met.\n",
    "      The syntax of while loop is:\n",
    "      while condition:\n",
    "      # body of while loop\n",
    "      Here,\n",
    "      A while loop evaluates the condition\n",
    "      If the condition evaluates to True, the code inside the while loop is executed.\n",
    "      condition is evaluated again.\n",
    "      This process continues until the condition is False.\n",
    "      When condition evaluates to False, the loop stops"
   ]
  },
  {
   "cell_type": "code",
   "execution_count": null,
   "id": "be74b9df-4fdf-4d29-bf8e-6c51d98cad6b",
   "metadata": {},
   "outputs": [],
   "source": [
    "Python while loop is used to run a block code until a certain condition is met.\n",
    "      The syntax of while loop is:\n",
    "      while condition:\n",
    "      # body of while loop\n",
    "      Here,\n",
    "      A while loop evaluates the condition\n",
    "      If the condition evaluates to True, the code inside the while loop is executed.\n",
    "      condition is evaluated again.\n",
    "      This process continues until the condition is False.\n",
    "      When condition evaluates to False, the loop stops"
   ]
  }
 ],
 "metadata": {
  "kernelspec": {
   "display_name": "Python 3 (ipykernel)",
   "language": "python",
   "name": "python3"
  },
  "language_info": {
   "codemirror_mode": {
    "name": "ipython",
    "version": 3
   },
   "file_extension": ".py",
   "mimetype": "text/x-python",
   "name": "python",
   "nbconvert_exporter": "python",
   "pygments_lexer": "ipython3",
   "version": "3.10.8"
  }
 },
 "nbformat": 4,
 "nbformat_minor": 5
}

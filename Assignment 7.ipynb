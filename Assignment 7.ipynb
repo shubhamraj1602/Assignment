{
 "cells": [
  {
   "cell_type": "code",
   "execution_count": null,
   "id": "f59ac588-b09d-4929-8bdf-8c0ce5dc8565",
   "metadata": {},
   "outputs": [],
   "source": [
    "Q1. Create a function which will take a list as an argument and return the product of all the numbers\n",
    "after creating a flat list.\n",
    "Use the below-given list as an argument for your function.\n",
    "list1 = [1,2,3,4, [44,55,66, True], False, (34,56,78,89,34), {1,2,3,3,2,1}, {1:34, \"key2\": [55, 67, 78, 89], 4: (45,\n",
    "22, 61, 34)}, [56, 'data science'], 'Machine Learning']"
   ]
  },
  {
   "cell_type": "code",
   "execution_count": 1,
   "id": "677814a3-b9a0-4f15-862c-f4f624f24ceb",
   "metadata": {},
   "outputs": [
    {
     "name": "stdout",
     "output_type": "stream",
     "text": [
      "2315262738624675840\n"
     ]
    }
   ],
   "source": [
    "from typing import List\n",
    "\n",
    "def get_product(lst: List):\n",
    "    flat_list = []\n",
    "    def flatten(lst):\n",
    "        for item in lst:\n",
    "            if type(item) in (list, tuple, set, dict):\n",
    "                flatten(item)\n",
    "            elif type(item) == int:\n",
    "                flat_list.append(item)\n",
    "    flatten(lst)\n",
    "    product = 1\n",
    "    for num in flat_list:\n",
    "        product *= num\n",
    "    return product\n",
    "\n",
    "list1 = [1,2,3,4, [44,55,66, True], False, (34,56,78,89,34), {1,2,3,3,2,1}, {1:34, \"key2\": [55, 67, 78, 89], 4: (45, 22, 61, 34)}, [56, 'data science'], 'Machine Learning']\n",
    "print(get_product(list1))"
   ]
  },
  {
   "cell_type": "code",
   "execution_count": null,
   "id": "0e6cae0e-e54d-4bf6-baa5-e4f14ccc48d6",
   "metadata": {},
   "outputs": [],
   "source": [
    "Q2. Write a python program for encrypting a message sent to you by your friend. The logic of encryption\n",
    "should be such that, for a the output should be z. For b, the output should be y. For c, the output should\n",
    "be x respectively. Also, the whitespace should be replaced with a dollar sign. Keep the punctuation\n",
    "marks unchanged.\n",
    "Input Sentence: I want to become a Data Scientist.\n",
    "Encrypt the above input sentence using the program you just created."
   ]
  },
  {
   "cell_type": "code",
   "execution_count": 2,
   "id": "665c296d-1568-4e8c-8e14-472b9c8d8969",
   "metadata": {},
   "outputs": [
    {
     "name": "stdout",
     "output_type": "stream",
     "text": [
      "Encrypted sentence: r$dzmg$gl$yvxlnv$z$wzgz$hxrvmgrhg.\n"
     ]
    }
   ],
   "source": [
    "def encrypt(sentence):\n",
    "  sentence = sentence.lower()\n",
    "  encryption = {}\n",
    "  for i in range(26):\n",
    "    encryption[chr(i + ord('a'))] = chr((25 - i) + ord('a'))\n",
    "  encryption[' '] = '$'\n",
    "  encrypted_sentence = ''\n",
    "  for char in sentence:\n",
    "    if char in encryption:\n",
    "      encrypted_sentence += encryption[char]\n",
    "    else:\n",
    "      encrypted_sentence += char\n",
    "  return encrypted_sentence\n",
    "\n",
    "sentence = \"I want to become a Data Scientist.\"\n",
    "encrypted_sentence = encrypt(sentence)\n",
    "print(\"Encrypted sentence:\", encrypted_sentence)"
   ]
  }
 ],
 "metadata": {
  "kernelspec": {
   "display_name": "Python 3 (ipykernel)",
   "language": "python",
   "name": "python3"
  },
  "language_info": {
   "codemirror_mode": {
    "name": "ipython",
    "version": 3
   },
   "file_extension": ".py",
   "mimetype": "text/x-python",
   "name": "python",
   "nbconvert_exporter": "python",
   "pygments_lexer": "ipython3",
   "version": "3.10.8"
  }
 },
 "nbformat": 4,
 "nbformat_minor": 5
}

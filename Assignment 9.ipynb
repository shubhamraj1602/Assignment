{
 "cells": [
  {
   "cell_type": "code",
   "execution_count": null,
   "id": "85a92c9b-dbcc-4a14-b2a3-bb110032d61e",
   "metadata": {},
   "outputs": [],
   "source": [
    "Q1. What is Abstraction in OOps? Explain with an example.\n",
    "Ans. What is Abstraction in OOps?\n",
    "Abstraction in python is defined as a process of handling complexity by hiding unnecessary information from the user. This is one of the core concepts of object-oriented programming (OOP) languages. That enables the user to implement even more complex logic on top of the provided abstraction without understanding or even thinking about all the hidden background/back-end complexity.\n",
    "\n",
    "Example"
   ]
  },
  {
   "cell_type": "code",
   "execution_count": 1,
   "id": "b4893b12-e490-4808-9865-9584bbda0f89",
   "metadata": {},
   "outputs": [
    {
     "name": "stdout",
     "output_type": "stream",
     "text": [
      "The mileage is 30kmph\n",
      "The mileage is 27kmph \n",
      "The mileage is 25kmph \n",
      "The mileage is 24kmph \n"
     ]
    }
   ],
   "source": [
    "from abc import ABC, abstractmethod   \n",
    "class Car(ABC):   \n",
    "    def mileage(self):   \n",
    "        pass  \n",
    "  \n",
    "class Tesla(Car):   \n",
    "    def mileage(self):   \n",
    "        print(\"The mileage is 30kmph\")   \n",
    "class Suzuki(Car):   \n",
    "    def mileage(self):   \n",
    "        print(\"The mileage is 25kmph \")   \n",
    "class Duster(Car):   \n",
    "     def mileage(self):   \n",
    "          print(\"The mileage is 24kmph \")   \n",
    "  \n",
    "class Renault(Car):   \n",
    "    def mileage(self):   \n",
    "            print(\"The mileage is 27kmph \")   \n",
    "          \n",
    "# Driver code   \n",
    "t= Tesla ()   \n",
    "t.mileage()   \n",
    "  \n",
    "r = Renault()   \n",
    "r.mileage()   \n",
    "  \n",
    "s = Suzuki()   \n",
    "s.mileage()   \n",
    "d = Duster()   \n",
    "d.mileage()  "
   ]
  },
  {
   "cell_type": "code",
   "execution_count": null,
   "id": "2f38fa62-04de-4a80-8891-efa00f346870",
   "metadata": {},
   "outputs": [],
   "source": [
    "Q2. Differentiate between Abstraction and Encapsulation. Explain with an example.\n",
    "Ans. Abstraction is the process or method of gaining the information. While encapsulation is the process or method\n",
    "to contain the information. In abstraction, problems are solved at the design or interface level.\n",
    "While in encapsulation, problems are solved at the implementation level."
   ]
  },
  {
   "cell_type": "code",
   "execution_count": null,
   "id": "5e558ca1-d170-494e-aa82-c28be8580469",
   "metadata": {},
   "outputs": [],
   "source": [
    "Q3. What is abc module in python? Why is it used?\n",
    "Ans. The abc module in Python is the Abstract Base Class module. It is used to define abstract base classes, which provide a way to define\n",
    "interfaces in Python. An abstract base class is a class that cannot be instantiated, but can be subclassed. The purpose of an\n",
    "abstract base class is to specify the interface that its subclasses must implement, without specifying how that implementation should be done.\n",
    "\n",
    "The abc module provides a way to create abstract base classes in Python by using the ABC class, as well as several decorators and\n",
    "methods to define abstract methods and properties"
   ]
  },
  {
   "cell_type": "code",
   "execution_count": null,
   "id": "89b69474-d118-4b5d-b1fe-504a0dd0986f",
   "metadata": {},
   "outputs": [],
   "source": [
    "Q4. How can we achieve data abstraction?\n",
    "Ans. Data abstraction is a programming concept that allows you to define the interface of an object without revealing the underlying implementation details. In other words, it provides a way to separate the implementation details of an object from the way it is used by other objects.\n",
    "\n",
    "There are several ways to achieve data abstraction in programming:\n",
    "\n",
    "Abstraction through classes: One of the most common ways to achieve data abstraction is through the use of classes.\n",
    "In object-oriented programming, classes provide a way to define objects with certain properties and methods, but hide\n",
    "the underlying implementation details from the rest of the code.\n",
    "For example, you can define a class with public methods that expose its behavior, but keep the implementation details private.\n",
    "\n",
    "Interfaces: An interface is a collection of abstract methods that must be implemented by any class that implements the interface.\n",
    "Interfaces are used to define a common set of behaviors that can be implemented by different classes, without specifying the implementation details. For example, in Java, you can define an interface that specifies the methods that must be implemented by a class that implements the interface.\n",
    "\n",
    "Modules: In some programming languages, like Python, you can use modules to define a set of related functions and variables, and hide the implementation details behind a well-defined interface. Modules provide a way to encapsulate the implementation details of a set of functions, and expose them to the rest of the code through a simple API.\n",
    "\n",
    "Information hiding: Information hiding is a programming concept that involves hiding the implementation details of an object or function behind a well-defined interface. Information hiding is used to protect the internal state of an object from being modified by external code, and to provide a clear and well-defined way for other objects to interact with the object."
   ]
  },
  {
   "cell_type": "code",
   "execution_count": null,
   "id": "9596ad64-a860-4db9-8b75-36d26f594ff4",
   "metadata": {},
   "outputs": [],
   "source": [
    "Q5. Can we create an instance of an abstract class? Explain your answer."
   ]
  }
 ],
 "metadata": {
  "kernelspec": {
   "display_name": "Python 3 (ipykernel)",
   "language": "python",
   "name": "python3"
  },
  "language_info": {
   "codemirror_mode": {
    "name": "ipython",
    "version": 3
   },
   "file_extension": ".py",
   "mimetype": "text/x-python",
   "name": "python",
   "nbconvert_exporter": "python",
   "pygments_lexer": "ipython3",
   "version": "3.10.8"
  }
 },
 "nbformat": 4,
 "nbformat_minor": 5
}
